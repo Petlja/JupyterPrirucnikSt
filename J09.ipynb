{
 "cells": [
  {
   "cell_type": "markdown",
   "metadata": {},
   "source": [
    "# 9. час: Рад са индексираним табелама\n",
    "\n",
    "На овом часу ћемо говорити о:\n",
    "1. индексирању табеле ради флексибилнијег приступа елементима табеле;\n",
    "2. приступу врстама и појединачним локацијама индексиране табеле; и\n",
    "3. рачунању са целим редовима и колонама табеле."
   ]
  },
  {
   "cell_type": "markdown",
   "metadata": {},
   "source": [
    "## 9.1. Индексирање"
   ]
  },
  {
   "cell_type": "markdown",
   "metadata": {},
   "source": [
    "Видели смо на прошлом часу да је рад са колонама табеле веома једноставан.\n",
    "\n",
    "Да бисмо могли да радимо са редовима табеле треба прво да нађемо једну колону чија вредност једнозначно одређује цео ред табеле. На пример, у табели са са прошлог часа\n",
    "\n",
    "| __Име__ | __Пол__ | __Старост__ | __Тежина__ | __Висина__ |\n",
    "|---|---|---|---|---|\n",
    "|      Ана | ж | 13 | 46 | 160 |\n",
    "|    Бојан | м | 14 | 52 | 165 |\n",
    "|    Влада | м | 13 | 47 | 157 |\n",
    "|  Гордана | ж | 15 | 54 | 165 |\n",
    "|    Дејан | м | 15 | 56 | 163 |\n",
    "|    Ђорђе | м | 13 | 45 | 159 |\n",
    "|    Елена | ж | 14 | 49 | 161 |\n",
    "|  Жаклина | ж | 15 | 52 | 164 |\n",
    "|    Зоран | м | 15 | 57 | 167 |\n",
    "|    Ивана | ж | 13 | 45 | 158 |\n",
    "|    Јасна | ж | 14 | 51 | 162 |\n",
    "\n",
    "колона \"Име\" је таква колона (колона \"Висина\" није погодна јер имамо двоје деце са висином 165, па када кажемо \"дете са висином 165\" није јасно о коме се ради; исто тако ни колоне \"Пол\", \"Старост\" и \"Тежина\" нису погодне).\n",
    "\n",
    "Таква колона се зове _кључ_ јер је она _кључна_ за приступање редовима табеле. Ако желимо да приступамо елементима табеле по редовима, морамо систему да пријавимо коју колону ћемо користити као кључ. То се постиже позивом функције `set_index` којој проследимо име колоне, а она врати нову табелу \"индексирану по датом кључу\":"
   ]
  },
  {
   "cell_type": "code",
   "execution_count": 1,
   "metadata": {},
   "outputs": [],
   "source": [
    "import pandas as pd\n",
    "podaci = [[\"Ана\",     \"ж\", 13, 46, 160],\n",
    "          [\"Бојан\",   \"м\", 14, 52, 165],\n",
    "          [\"Влада\",   \"м\", 13, 47, 157],\n",
    "          [\"Гордана\", \"ж\", 15, 54, 165],\n",
    "          [\"Дејан\",   \"м\", 15, 56, 163],\n",
    "          [\"Ђорђе\",   \"м\", 13, 45, 159],\n",
    "          [\"Елена\",   \"ж\", 14, 49, 161],\n",
    "          [\"Жаклина\", \"ж\", 15, 52, 164],\n",
    "          [\"Зоран\",   \"м\", 15, 57, 167],\n",
    "          [\"Ивана\",   \"ж\", 13, 45, 158],\n",
    "          [\"Јасна\",   \"ж\", 14, 51, 162]]\n",
    "tabela = pd.DataFrame(podaci)\n",
    "tabela.columns=[\"Име\", \"Пол\", \"Старост\", \"Тежина\", \"Висина\"]\n",
    "tabela1=tabela.set_index(\"Име\")"
   ]
  },
  {
   "cell_type": "markdown",
   "metadata": {},
   "source": [
    "Нова табела (`tabela1`) се од старе (`tabela`) разликује само по томе што редови више нису индексирани бројевима (0, 1, 2, ...) већ именима деце (Ана, Бојан, Влада, ...). Ево старе (неиндексиране табеле) која има колону \"Име\" и чији редови су индексирани бројевима:"
   ]
  },
  {
   "cell_type": "code",
   "execution_count": 2,
   "metadata": {},
   "outputs": [
    {
     "data": {
      "text/html": [
       "<div>\n",
       "<style scoped>\n",
       "    .dataframe tbody tr th:only-of-type {\n",
       "        vertical-align: middle;\n",
       "    }\n",
       "\n",
       "    .dataframe tbody tr th {\n",
       "        vertical-align: top;\n",
       "    }\n",
       "\n",
       "    .dataframe thead th {\n",
       "        text-align: right;\n",
       "    }\n",
       "</style>\n",
       "<table border=\"1\" class=\"dataframe\">\n",
       "  <thead>\n",
       "    <tr style=\"text-align: right;\">\n",
       "      <th></th>\n",
       "      <th>Име</th>\n",
       "      <th>Пол</th>\n",
       "      <th>Старост</th>\n",
       "      <th>Тежина</th>\n",
       "      <th>Висина</th>\n",
       "    </tr>\n",
       "  </thead>\n",
       "  <tbody>\n",
       "    <tr>\n",
       "      <th>0</th>\n",
       "      <td>Ана</td>\n",
       "      <td>ж</td>\n",
       "      <td>13</td>\n",
       "      <td>46</td>\n",
       "      <td>160</td>\n",
       "    </tr>\n",
       "    <tr>\n",
       "      <th>1</th>\n",
       "      <td>Бојан</td>\n",
       "      <td>м</td>\n",
       "      <td>14</td>\n",
       "      <td>52</td>\n",
       "      <td>165</td>\n",
       "    </tr>\n",
       "    <tr>\n",
       "      <th>2</th>\n",
       "      <td>Влада</td>\n",
       "      <td>м</td>\n",
       "      <td>13</td>\n",
       "      <td>47</td>\n",
       "      <td>157</td>\n",
       "    </tr>\n",
       "    <tr>\n",
       "      <th>3</th>\n",
       "      <td>Гордана</td>\n",
       "      <td>ж</td>\n",
       "      <td>15</td>\n",
       "      <td>54</td>\n",
       "      <td>165</td>\n",
       "    </tr>\n",
       "    <tr>\n",
       "      <th>4</th>\n",
       "      <td>Дејан</td>\n",
       "      <td>м</td>\n",
       "      <td>15</td>\n",
       "      <td>56</td>\n",
       "      <td>163</td>\n",
       "    </tr>\n",
       "    <tr>\n",
       "      <th>5</th>\n",
       "      <td>Ђорђе</td>\n",
       "      <td>м</td>\n",
       "      <td>13</td>\n",
       "      <td>45</td>\n",
       "      <td>159</td>\n",
       "    </tr>\n",
       "    <tr>\n",
       "      <th>6</th>\n",
       "      <td>Елена</td>\n",
       "      <td>ж</td>\n",
       "      <td>14</td>\n",
       "      <td>49</td>\n",
       "      <td>161</td>\n",
       "    </tr>\n",
       "    <tr>\n",
       "      <th>7</th>\n",
       "      <td>Жаклина</td>\n",
       "      <td>ж</td>\n",
       "      <td>15</td>\n",
       "      <td>52</td>\n",
       "      <td>164</td>\n",
       "    </tr>\n",
       "    <tr>\n",
       "      <th>8</th>\n",
       "      <td>Зоран</td>\n",
       "      <td>м</td>\n",
       "      <td>15</td>\n",
       "      <td>57</td>\n",
       "      <td>167</td>\n",
       "    </tr>\n",
       "    <tr>\n",
       "      <th>9</th>\n",
       "      <td>Ивана</td>\n",
       "      <td>ж</td>\n",
       "      <td>13</td>\n",
       "      <td>45</td>\n",
       "      <td>158</td>\n",
       "    </tr>\n",
       "    <tr>\n",
       "      <th>10</th>\n",
       "      <td>Јасна</td>\n",
       "      <td>ж</td>\n",
       "      <td>14</td>\n",
       "      <td>51</td>\n",
       "      <td>162</td>\n",
       "    </tr>\n",
       "  </tbody>\n",
       "</table>\n",
       "</div>"
      ],
      "text/plain": [
       "        Име Пол  Старост  Тежина  Висина\n",
       "0       Ана   ж       13      46     160\n",
       "1     Бојан   м       14      52     165\n",
       "2     Влада   м       13      47     157\n",
       "3   Гордана   ж       15      54     165\n",
       "4     Дејан   м       15      56     163\n",
       "5     Ђорђе   м       13      45     159\n",
       "6     Елена   ж       14      49     161\n",
       "7   Жаклина   ж       15      52     164\n",
       "8     Зоран   м       15      57     167\n",
       "9     Ивана   ж       13      45     158\n",
       "10    Јасна   ж       14      51     162"
      ]
     },
     "execution_count": 2,
     "metadata": {},
     "output_type": "execute_result"
    }
   ],
   "source": [
    "tabela"
   ]
  },
  {
   "cell_type": "markdown",
   "metadata": {},
   "source": [
    "А ево и нове табеле у којој су редови индексирану именима деце:"
   ]
  },
  {
   "cell_type": "code",
   "execution_count": 3,
   "metadata": {},
   "outputs": [
    {
     "data": {
      "text/html": [
       "<div>\n",
       "<style scoped>\n",
       "    .dataframe tbody tr th:only-of-type {\n",
       "        vertical-align: middle;\n",
       "    }\n",
       "\n",
       "    .dataframe tbody tr th {\n",
       "        vertical-align: top;\n",
       "    }\n",
       "\n",
       "    .dataframe thead th {\n",
       "        text-align: right;\n",
       "    }\n",
       "</style>\n",
       "<table border=\"1\" class=\"dataframe\">\n",
       "  <thead>\n",
       "    <tr style=\"text-align: right;\">\n",
       "      <th></th>\n",
       "      <th>Пол</th>\n",
       "      <th>Старост</th>\n",
       "      <th>Тежина</th>\n",
       "      <th>Висина</th>\n",
       "    </tr>\n",
       "    <tr>\n",
       "      <th>Име</th>\n",
       "      <th></th>\n",
       "      <th></th>\n",
       "      <th></th>\n",
       "      <th></th>\n",
       "    </tr>\n",
       "  </thead>\n",
       "  <tbody>\n",
       "    <tr>\n",
       "      <th>Ана</th>\n",
       "      <td>ж</td>\n",
       "      <td>13</td>\n",
       "      <td>46</td>\n",
       "      <td>160</td>\n",
       "    </tr>\n",
       "    <tr>\n",
       "      <th>Бојан</th>\n",
       "      <td>м</td>\n",
       "      <td>14</td>\n",
       "      <td>52</td>\n",
       "      <td>165</td>\n",
       "    </tr>\n",
       "    <tr>\n",
       "      <th>Влада</th>\n",
       "      <td>м</td>\n",
       "      <td>13</td>\n",
       "      <td>47</td>\n",
       "      <td>157</td>\n",
       "    </tr>\n",
       "    <tr>\n",
       "      <th>Гордана</th>\n",
       "      <td>ж</td>\n",
       "      <td>15</td>\n",
       "      <td>54</td>\n",
       "      <td>165</td>\n",
       "    </tr>\n",
       "    <tr>\n",
       "      <th>Дејан</th>\n",
       "      <td>м</td>\n",
       "      <td>15</td>\n",
       "      <td>56</td>\n",
       "      <td>163</td>\n",
       "    </tr>\n",
       "    <tr>\n",
       "      <th>Ђорђе</th>\n",
       "      <td>м</td>\n",
       "      <td>13</td>\n",
       "      <td>45</td>\n",
       "      <td>159</td>\n",
       "    </tr>\n",
       "    <tr>\n",
       "      <th>Елена</th>\n",
       "      <td>ж</td>\n",
       "      <td>14</td>\n",
       "      <td>49</td>\n",
       "      <td>161</td>\n",
       "    </tr>\n",
       "    <tr>\n",
       "      <th>Жаклина</th>\n",
       "      <td>ж</td>\n",
       "      <td>15</td>\n",
       "      <td>52</td>\n",
       "      <td>164</td>\n",
       "    </tr>\n",
       "    <tr>\n",
       "      <th>Зоран</th>\n",
       "      <td>м</td>\n",
       "      <td>15</td>\n",
       "      <td>57</td>\n",
       "      <td>167</td>\n",
       "    </tr>\n",
       "    <tr>\n",
       "      <th>Ивана</th>\n",
       "      <td>ж</td>\n",
       "      <td>13</td>\n",
       "      <td>45</td>\n",
       "      <td>158</td>\n",
       "    </tr>\n",
       "    <tr>\n",
       "      <th>Јасна</th>\n",
       "      <td>ж</td>\n",
       "      <td>14</td>\n",
       "      <td>51</td>\n",
       "      <td>162</td>\n",
       "    </tr>\n",
       "  </tbody>\n",
       "</table>\n",
       "</div>"
      ],
      "text/plain": [
       "        Пол  Старост  Тежина  Висина\n",
       "Име                                 \n",
       "Ана       ж       13      46     160\n",
       "Бојан     м       14      52     165\n",
       "Влада     м       13      47     157\n",
       "Гордана   ж       15      54     165\n",
       "Дејан     м       15      56     163\n",
       "Ђорђе     м       13      45     159\n",
       "Елена     ж       14      49     161\n",
       "Жаклина   ж       15      52     164\n",
       "Зоран     м       15      57     167\n",
       "Ивана     ж       13      45     158\n",
       "Јасна     ж       14      51     162"
      ]
     },
     "execution_count": 3,
     "metadata": {},
     "output_type": "execute_result"
    }
   ],
   "source": [
    "tabela1"
   ]
  },
  {
   "cell_type": "markdown",
   "metadata": {},
   "source": [
    "Колона \"Име\" је и даље присутна у табели `tabela1`, али има посебан статус. Ако покушамо да јој приступимо као \"обичној\" колони добићемо грешку:"
   ]
  },
  {
   "cell_type": "code",
   "execution_count": 4,
   "metadata": {},
   "outputs": [
    {
     "ename": "KeyError",
     "evalue": "'Име'",
     "output_type": "error",
     "traceback": [
      "\u001b[1;31m---------------------------------------------------------------------------\u001b[0m",
      "\u001b[1;31mKeyError\u001b[0m                                  Traceback (most recent call last)",
      "\u001b[1;32mC:\\ProgramData\\Anaconda3\\lib\\site-packages\\pandas\\core\\indexes\\base.py\u001b[0m in \u001b[0;36mget_loc\u001b[1;34m(self, key, method, tolerance)\u001b[0m\n\u001b[0;32m   3062\u001b[0m             \u001b[1;32mtry\u001b[0m\u001b[1;33m:\u001b[0m\u001b[1;33m\u001b[0m\u001b[0m\n\u001b[1;32m-> 3063\u001b[1;33m                 \u001b[1;32mreturn\u001b[0m \u001b[0mself\u001b[0m\u001b[1;33m.\u001b[0m\u001b[0m_engine\u001b[0m\u001b[1;33m.\u001b[0m\u001b[0mget_loc\u001b[0m\u001b[1;33m(\u001b[0m\u001b[0mkey\u001b[0m\u001b[1;33m)\u001b[0m\u001b[1;33m\u001b[0m\u001b[0m\n\u001b[0m\u001b[0;32m   3064\u001b[0m             \u001b[1;32mexcept\u001b[0m \u001b[0mKeyError\u001b[0m\u001b[1;33m:\u001b[0m\u001b[1;33m\u001b[0m\u001b[0m\n",
      "\u001b[1;32mpandas\\_libs\\index.pyx\u001b[0m in \u001b[0;36mpandas._libs.index.IndexEngine.get_loc\u001b[1;34m()\u001b[0m\n",
      "\u001b[1;32mpandas\\_libs\\index.pyx\u001b[0m in \u001b[0;36mpandas._libs.index.IndexEngine.get_loc\u001b[1;34m()\u001b[0m\n",
      "\u001b[1;32mpandas\\_libs\\hashtable_class_helper.pxi\u001b[0m in \u001b[0;36mpandas._libs.hashtable.PyObjectHashTable.get_item\u001b[1;34m()\u001b[0m\n",
      "\u001b[1;32mpandas\\_libs\\hashtable_class_helper.pxi\u001b[0m in \u001b[0;36mpandas._libs.hashtable.PyObjectHashTable.get_item\u001b[1;34m()\u001b[0m\n",
      "\u001b[1;31mKeyError\u001b[0m: 'Име'",
      "\nDuring handling of the above exception, another exception occurred:\n",
      "\u001b[1;31mKeyError\u001b[0m                                  Traceback (most recent call last)",
      "\u001b[1;32m<ipython-input-4-7370621bac56>\u001b[0m in \u001b[0;36m<module>\u001b[1;34m()\u001b[0m\n\u001b[1;32m----> 1\u001b[1;33m \u001b[0mtabela1\u001b[0m\u001b[1;33m[\u001b[0m\u001b[1;34m\"Име\"\u001b[0m\u001b[1;33m]\u001b[0m\u001b[1;33m\u001b[0m\u001b[0m\n\u001b[0m",
      "\u001b[1;32mC:\\ProgramData\\Anaconda3\\lib\\site-packages\\pandas\\core\\frame.py\u001b[0m in \u001b[0;36m__getitem__\u001b[1;34m(self, key)\u001b[0m\n\u001b[0;32m   2683\u001b[0m             \u001b[1;32mreturn\u001b[0m \u001b[0mself\u001b[0m\u001b[1;33m.\u001b[0m\u001b[0m_getitem_multilevel\u001b[0m\u001b[1;33m(\u001b[0m\u001b[0mkey\u001b[0m\u001b[1;33m)\u001b[0m\u001b[1;33m\u001b[0m\u001b[0m\n\u001b[0;32m   2684\u001b[0m         \u001b[1;32melse\u001b[0m\u001b[1;33m:\u001b[0m\u001b[1;33m\u001b[0m\u001b[0m\n\u001b[1;32m-> 2685\u001b[1;33m             \u001b[1;32mreturn\u001b[0m \u001b[0mself\u001b[0m\u001b[1;33m.\u001b[0m\u001b[0m_getitem_column\u001b[0m\u001b[1;33m(\u001b[0m\u001b[0mkey\u001b[0m\u001b[1;33m)\u001b[0m\u001b[1;33m\u001b[0m\u001b[0m\n\u001b[0m\u001b[0;32m   2686\u001b[0m \u001b[1;33m\u001b[0m\u001b[0m\n\u001b[0;32m   2687\u001b[0m     \u001b[1;32mdef\u001b[0m \u001b[0m_getitem_column\u001b[0m\u001b[1;33m(\u001b[0m\u001b[0mself\u001b[0m\u001b[1;33m,\u001b[0m \u001b[0mkey\u001b[0m\u001b[1;33m)\u001b[0m\u001b[1;33m:\u001b[0m\u001b[1;33m\u001b[0m\u001b[0m\n",
      "\u001b[1;32mC:\\ProgramData\\Anaconda3\\lib\\site-packages\\pandas\\core\\frame.py\u001b[0m in \u001b[0;36m_getitem_column\u001b[1;34m(self, key)\u001b[0m\n\u001b[0;32m   2690\u001b[0m         \u001b[1;31m# get column\u001b[0m\u001b[1;33m\u001b[0m\u001b[1;33m\u001b[0m\u001b[0m\n\u001b[0;32m   2691\u001b[0m         \u001b[1;32mif\u001b[0m \u001b[0mself\u001b[0m\u001b[1;33m.\u001b[0m\u001b[0mcolumns\u001b[0m\u001b[1;33m.\u001b[0m\u001b[0mis_unique\u001b[0m\u001b[1;33m:\u001b[0m\u001b[1;33m\u001b[0m\u001b[0m\n\u001b[1;32m-> 2692\u001b[1;33m             \u001b[1;32mreturn\u001b[0m \u001b[0mself\u001b[0m\u001b[1;33m.\u001b[0m\u001b[0m_get_item_cache\u001b[0m\u001b[1;33m(\u001b[0m\u001b[0mkey\u001b[0m\u001b[1;33m)\u001b[0m\u001b[1;33m\u001b[0m\u001b[0m\n\u001b[0m\u001b[0;32m   2693\u001b[0m \u001b[1;33m\u001b[0m\u001b[0m\n\u001b[0;32m   2694\u001b[0m         \u001b[1;31m# duplicate columns & possible reduce dimensionality\u001b[0m\u001b[1;33m\u001b[0m\u001b[1;33m\u001b[0m\u001b[0m\n",
      "\u001b[1;32mC:\\ProgramData\\Anaconda3\\lib\\site-packages\\pandas\\core\\generic.py\u001b[0m in \u001b[0;36m_get_item_cache\u001b[1;34m(self, item)\u001b[0m\n\u001b[0;32m   2484\u001b[0m         \u001b[0mres\u001b[0m \u001b[1;33m=\u001b[0m \u001b[0mcache\u001b[0m\u001b[1;33m.\u001b[0m\u001b[0mget\u001b[0m\u001b[1;33m(\u001b[0m\u001b[0mitem\u001b[0m\u001b[1;33m)\u001b[0m\u001b[1;33m\u001b[0m\u001b[0m\n\u001b[0;32m   2485\u001b[0m         \u001b[1;32mif\u001b[0m \u001b[0mres\u001b[0m \u001b[1;32mis\u001b[0m \u001b[1;32mNone\u001b[0m\u001b[1;33m:\u001b[0m\u001b[1;33m\u001b[0m\u001b[0m\n\u001b[1;32m-> 2486\u001b[1;33m             \u001b[0mvalues\u001b[0m \u001b[1;33m=\u001b[0m \u001b[0mself\u001b[0m\u001b[1;33m.\u001b[0m\u001b[0m_data\u001b[0m\u001b[1;33m.\u001b[0m\u001b[0mget\u001b[0m\u001b[1;33m(\u001b[0m\u001b[0mitem\u001b[0m\u001b[1;33m)\u001b[0m\u001b[1;33m\u001b[0m\u001b[0m\n\u001b[0m\u001b[0;32m   2487\u001b[0m             \u001b[0mres\u001b[0m \u001b[1;33m=\u001b[0m \u001b[0mself\u001b[0m\u001b[1;33m.\u001b[0m\u001b[0m_box_item_values\u001b[0m\u001b[1;33m(\u001b[0m\u001b[0mitem\u001b[0m\u001b[1;33m,\u001b[0m \u001b[0mvalues\u001b[0m\u001b[1;33m)\u001b[0m\u001b[1;33m\u001b[0m\u001b[0m\n\u001b[0;32m   2488\u001b[0m             \u001b[0mcache\u001b[0m\u001b[1;33m[\u001b[0m\u001b[0mitem\u001b[0m\u001b[1;33m]\u001b[0m \u001b[1;33m=\u001b[0m \u001b[0mres\u001b[0m\u001b[1;33m\u001b[0m\u001b[0m\n",
      "\u001b[1;32mC:\\ProgramData\\Anaconda3\\lib\\site-packages\\pandas\\core\\internals.py\u001b[0m in \u001b[0;36mget\u001b[1;34m(self, item, fastpath)\u001b[0m\n\u001b[0;32m   4113\u001b[0m \u001b[1;33m\u001b[0m\u001b[0m\n\u001b[0;32m   4114\u001b[0m             \u001b[1;32mif\u001b[0m \u001b[1;32mnot\u001b[0m \u001b[0misna\u001b[0m\u001b[1;33m(\u001b[0m\u001b[0mitem\u001b[0m\u001b[1;33m)\u001b[0m\u001b[1;33m:\u001b[0m\u001b[1;33m\u001b[0m\u001b[0m\n\u001b[1;32m-> 4115\u001b[1;33m                 \u001b[0mloc\u001b[0m \u001b[1;33m=\u001b[0m \u001b[0mself\u001b[0m\u001b[1;33m.\u001b[0m\u001b[0mitems\u001b[0m\u001b[1;33m.\u001b[0m\u001b[0mget_loc\u001b[0m\u001b[1;33m(\u001b[0m\u001b[0mitem\u001b[0m\u001b[1;33m)\u001b[0m\u001b[1;33m\u001b[0m\u001b[0m\n\u001b[0m\u001b[0;32m   4116\u001b[0m             \u001b[1;32melse\u001b[0m\u001b[1;33m:\u001b[0m\u001b[1;33m\u001b[0m\u001b[0m\n\u001b[0;32m   4117\u001b[0m                 \u001b[0mindexer\u001b[0m \u001b[1;33m=\u001b[0m \u001b[0mnp\u001b[0m\u001b[1;33m.\u001b[0m\u001b[0marange\u001b[0m\u001b[1;33m(\u001b[0m\u001b[0mlen\u001b[0m\u001b[1;33m(\u001b[0m\u001b[0mself\u001b[0m\u001b[1;33m.\u001b[0m\u001b[0mitems\u001b[0m\u001b[1;33m)\u001b[0m\u001b[1;33m)\u001b[0m\u001b[1;33m[\u001b[0m\u001b[0misna\u001b[0m\u001b[1;33m(\u001b[0m\u001b[0mself\u001b[0m\u001b[1;33m.\u001b[0m\u001b[0mitems\u001b[0m\u001b[1;33m)\u001b[0m\u001b[1;33m]\u001b[0m\u001b[1;33m\u001b[0m\u001b[0m\n",
      "\u001b[1;32mC:\\ProgramData\\Anaconda3\\lib\\site-packages\\pandas\\core\\indexes\\base.py\u001b[0m in \u001b[0;36mget_loc\u001b[1;34m(self, key, method, tolerance)\u001b[0m\n\u001b[0;32m   3063\u001b[0m                 \u001b[1;32mreturn\u001b[0m \u001b[0mself\u001b[0m\u001b[1;33m.\u001b[0m\u001b[0m_engine\u001b[0m\u001b[1;33m.\u001b[0m\u001b[0mget_loc\u001b[0m\u001b[1;33m(\u001b[0m\u001b[0mkey\u001b[0m\u001b[1;33m)\u001b[0m\u001b[1;33m\u001b[0m\u001b[0m\n\u001b[0;32m   3064\u001b[0m             \u001b[1;32mexcept\u001b[0m \u001b[0mKeyError\u001b[0m\u001b[1;33m:\u001b[0m\u001b[1;33m\u001b[0m\u001b[0m\n\u001b[1;32m-> 3065\u001b[1;33m                 \u001b[1;32mreturn\u001b[0m \u001b[0mself\u001b[0m\u001b[1;33m.\u001b[0m\u001b[0m_engine\u001b[0m\u001b[1;33m.\u001b[0m\u001b[0mget_loc\u001b[0m\u001b[1;33m(\u001b[0m\u001b[0mself\u001b[0m\u001b[1;33m.\u001b[0m\u001b[0m_maybe_cast_indexer\u001b[0m\u001b[1;33m(\u001b[0m\u001b[0mkey\u001b[0m\u001b[1;33m)\u001b[0m\u001b[1;33m)\u001b[0m\u001b[1;33m\u001b[0m\u001b[0m\n\u001b[0m\u001b[0;32m   3066\u001b[0m \u001b[1;33m\u001b[0m\u001b[0m\n\u001b[0;32m   3067\u001b[0m         \u001b[0mindexer\u001b[0m \u001b[1;33m=\u001b[0m \u001b[0mself\u001b[0m\u001b[1;33m.\u001b[0m\u001b[0mget_indexer\u001b[0m\u001b[1;33m(\u001b[0m\u001b[1;33m[\u001b[0m\u001b[0mkey\u001b[0m\u001b[1;33m]\u001b[0m\u001b[1;33m,\u001b[0m \u001b[0mmethod\u001b[0m\u001b[1;33m=\u001b[0m\u001b[0mmethod\u001b[0m\u001b[1;33m,\u001b[0m \u001b[0mtolerance\u001b[0m\u001b[1;33m=\u001b[0m\u001b[0mtolerance\u001b[0m\u001b[1;33m)\u001b[0m\u001b[1;33m\u001b[0m\u001b[0m\n",
      "\u001b[1;32mpandas\\_libs\\index.pyx\u001b[0m in \u001b[0;36mpandas._libs.index.IndexEngine.get_loc\u001b[1;34m()\u001b[0m\n",
      "\u001b[1;32mpandas\\_libs\\index.pyx\u001b[0m in \u001b[0;36mpandas._libs.index.IndexEngine.get_loc\u001b[1;34m()\u001b[0m\n",
      "\u001b[1;32mpandas\\_libs\\hashtable_class_helper.pxi\u001b[0m in \u001b[0;36mpandas._libs.hashtable.PyObjectHashTable.get_item\u001b[1;34m()\u001b[0m\n",
      "\u001b[1;32mpandas\\_libs\\hashtable_class_helper.pxi\u001b[0m in \u001b[0;36mpandas._libs.hashtable.PyObjectHashTable.get_item\u001b[1;34m()\u001b[0m\n",
      "\u001b[1;31mKeyError\u001b[0m: 'Име'"
     ]
    }
   ],
   "source": [
    "tabela1[\"Име\"]"
   ]
  },
  {
   "cell_type": "markdown",
   "metadata": {},
   "source": [
    "Међутим, она је ту као _индексна колона_:"
   ]
  },
  {
   "cell_type": "code",
   "execution_count": 5,
   "metadata": {},
   "outputs": [
    {
     "data": {
      "text/plain": [
       "Index(['Ана', 'Бојан', 'Влада', 'Гордана', 'Дејан', 'Ђорђе', 'Елена',\n",
       "       'Жаклина', 'Зоран', 'Ивана', 'Јасна'],\n",
       "      dtype='object', name='Име')"
      ]
     },
     "execution_count": 5,
     "metadata": {},
     "output_type": "execute_result"
    }
   ],
   "source": [
    "tabela1.index"
   ]
  },
  {
   "cell_type": "markdown",
   "metadata": {},
   "source": [
    "Ако желимо да прикажемо висину деце у групи графиконом тако да имена деце буду на хоризонталној оси, то сада можемо урадити овако:"
   ]
  },
  {
   "cell_type": "code",
   "execution_count": 7,
   "metadata": {},
   "outputs": [
    {
     "data": {
      "image/png": "[encoded data removed]",
      "text/plain": [
       "<Figure size 720x360 with 1 Axes>"
      ]
     },
     "metadata": {},
     "output_type": "display_data"
    }
   ],
   "source": [
    "import matplotlib.pyplot as plt\n",
    "plt.figure(figsize=(10,5))\n",
    "plt.bar(tabela1.index, tabela1[\"Висина\"])\n",
    "plt.title(\"Висина деце у групи\")\n",
    "plt.show()\n",
    "plt.close()"
   ]
  },
  {
   "cell_type": "markdown",
   "metadata": {},
   "source": [
    "Ознаке на хоризонталној оси узимамо из индексне колоне `tabela1.index`, док податке о висини стубића узимамо из колоне `tabela1[\"Висина\"]`."
   ]
  },
  {
   "cell_type": "markdown",
   "metadata": {},
   "source": [
    "## 9.2. Приступ врстама и појединачним ћелијама индексиране табеле"
   ]
  },
  {
   "cell_type": "markdown",
   "metadata": {},
   "source": [
    "Структура података _DataFrame_ је оптимизована за рад са колонама табеле. Срећом, када имамо индексирану табелу као што је то `tabela1`, користећи функцију `loc` (од енгл. _location_ што значи \"локација, положај, место\") можемо да приступамо редовима табеле, као и појединачним ћелијама табеле.\n",
    "\n",
    "Податке о појединачним редовима табеле можемо да видимо овако:"
   ]
  },
  {
   "cell_type": "code",
   "execution_count": 8,
   "metadata": {},
   "outputs": [
    {
     "data": {
      "text/plain": [
       "Пол          м\n",
       "Старост     15\n",
       "Тежина      56\n",
       "Висина     163\n",
       "Name: Дејан, dtype: object"
      ]
     },
     "execution_count": 8,
     "metadata": {},
     "output_type": "execute_result"
    }
   ],
   "source": [
    "tabela1.loc[\"Дејан\"]"
   ]
  },
  {
   "cell_type": "markdown",
   "metadata": {},
   "source": [
    "Као аргумент функције `loc` можемо да наведемо и распон, и тако ћемо добити одговарајући део табеле:"
   ]
  },
  {
   "cell_type": "code",
   "execution_count": 9,
   "metadata": {
    "scrolled": true
   },
   "outputs": [
    {
     "data": {
      "text/html": [
       "<div>\n",
       "<style scoped>\n",
       "    .dataframe tbody tr th:only-of-type {\n",
       "        vertical-align: middle;\n",
       "    }\n",
       "\n",
       "    .dataframe tbody tr th {\n",
       "        vertical-align: top;\n",
       "    }\n",
       "\n",
       "    .dataframe thead th {\n",
       "        text-align: right;\n",
       "    }\n",
       "</style>\n",
       "<table border=\"1\" class=\"dataframe\">\n",
       "  <thead>\n",
       "    <tr style=\"text-align: right;\">\n",
       "      <th></th>\n",
       "      <th>Пол</th>\n",
       "      <th>Старост</th>\n",
       "      <th>Тежина</th>\n",
       "      <th>Висина</th>\n",
       "    </tr>\n",
       "    <tr>\n",
       "      <th>Име</th>\n",
       "      <th></th>\n",
       "      <th></th>\n",
       "      <th></th>\n",
       "      <th></th>\n",
       "    </tr>\n",
       "  </thead>\n",
       "  <tbody>\n",
       "    <tr>\n",
       "      <th>Дејан</th>\n",
       "      <td>м</td>\n",
       "      <td>15</td>\n",
       "      <td>56</td>\n",
       "      <td>163</td>\n",
       "    </tr>\n",
       "    <tr>\n",
       "      <th>Ђорђе</th>\n",
       "      <td>м</td>\n",
       "      <td>13</td>\n",
       "      <td>45</td>\n",
       "      <td>159</td>\n",
       "    </tr>\n",
       "    <tr>\n",
       "      <th>Елена</th>\n",
       "      <td>ж</td>\n",
       "      <td>14</td>\n",
       "      <td>49</td>\n",
       "      <td>161</td>\n",
       "    </tr>\n",
       "    <tr>\n",
       "      <th>Жаклина</th>\n",
       "      <td>ж</td>\n",
       "      <td>15</td>\n",
       "      <td>52</td>\n",
       "      <td>164</td>\n",
       "    </tr>\n",
       "    <tr>\n",
       "      <th>Зоран</th>\n",
       "      <td>м</td>\n",
       "      <td>15</td>\n",
       "      <td>57</td>\n",
       "      <td>167</td>\n",
       "    </tr>\n",
       "  </tbody>\n",
       "</table>\n",
       "</div>"
      ],
      "text/plain": [
       "        Пол  Старост  Тежина  Висина\n",
       "Име                                 \n",
       "Дејан     м       15      56     163\n",
       "Ђорђе     м       13      45     159\n",
       "Елена     ж       14      49     161\n",
       "Жаклина   ж       15      52     164\n",
       "Зоран     м       15      57     167"
      ]
     },
     "execution_count": 9,
     "metadata": {},
     "output_type": "execute_result"
    }
   ],
   "source": [
    "tabela1.loc[\"Дејан\":\"Зоран\"]"
   ]
  },
  {
   "cell_type": "markdown",
   "metadata": {},
   "source": [
    "Ако као други аргумент функције `loc` наведемо име колоне, рецимо овако:\n",
    "\n",
    "    tabela1.loc[\"Дејан\", \"Висина\"]\n",
    "\n",
    "добићемо информацију о Дејановој висини."
   ]
  },
  {
   "cell_type": "code",
   "execution_count": 10,
   "metadata": {
    "scrolled": true
   },
   "outputs": [
    {
     "data": {
      "text/plain": [
       "163"
      ]
     },
     "execution_count": 10,
     "metadata": {},
     "output_type": "execute_result"
    }
   ],
   "source": [
    "tabela1.loc[\"Дејан\", \"Висина\"]"
   ]
  },
  {
   "cell_type": "markdown",
   "metadata": {},
   "source": [
    "Ево како можемо да добијемо информацију о тежини и висини неколико деце:"
   ]
  },
  {
   "cell_type": "code",
   "execution_count": 11,
   "metadata": {
    "scrolled": true
   },
   "outputs": [
    {
     "data": {
      "text/html": [
       "<div>\n",
       "<style scoped>\n",
       "    .dataframe tbody tr th:only-of-type {\n",
       "        vertical-align: middle;\n",
       "    }\n",
       "\n",
       "    .dataframe tbody tr th {\n",
       "        vertical-align: top;\n",
       "    }\n",
       "\n",
       "    .dataframe thead th {\n",
       "        text-align: right;\n",
       "    }\n",
       "</style>\n",
       "<table border=\"1\" class=\"dataframe\">\n",
       "  <thead>\n",
       "    <tr style=\"text-align: right;\">\n",
       "      <th></th>\n",
       "      <th>Тежина</th>\n",
       "      <th>Висина</th>\n",
       "    </tr>\n",
       "    <tr>\n",
       "      <th>Име</th>\n",
       "      <th></th>\n",
       "      <th></th>\n",
       "    </tr>\n",
       "  </thead>\n",
       "  <tbody>\n",
       "    <tr>\n",
       "      <th>Дејан</th>\n",
       "      <td>56</td>\n",
       "      <td>163</td>\n",
       "    </tr>\n",
       "    <tr>\n",
       "      <th>Ђорђе</th>\n",
       "      <td>45</td>\n",
       "      <td>159</td>\n",
       "    </tr>\n",
       "    <tr>\n",
       "      <th>Елена</th>\n",
       "      <td>49</td>\n",
       "      <td>161</td>\n",
       "    </tr>\n",
       "    <tr>\n",
       "      <th>Жаклина</th>\n",
       "      <td>52</td>\n",
       "      <td>164</td>\n",
       "    </tr>\n",
       "    <tr>\n",
       "      <th>Зоран</th>\n",
       "      <td>57</td>\n",
       "      <td>167</td>\n",
       "    </tr>\n",
       "  </tbody>\n",
       "</table>\n",
       "</div>"
      ],
      "text/plain": [
       "         Тежина  Висина\n",
       "Име                    \n",
       "Дејан        56     163\n",
       "Ђорђе        45     159\n",
       "Елена        49     161\n",
       "Жаклина      52     164\n",
       "Зоран        57     167"
      ]
     },
     "execution_count": 11,
     "metadata": {},
     "output_type": "execute_result"
    }
   ],
   "source": [
    "tabela1.loc[\"Дејан\":\"Зоран\", \"Тежина\":\"Висина\"]"
   ]
  },
  {
   "cell_type": "markdown",
   "metadata": {},
   "source": [
    "## 9.3. Рачун по врстама и колонама табеле"
   ]
  },
  {
   "cell_type": "markdown",
   "metadata": {},
   "source": [
    "Кренимо од једног примера. У ћелији испод дате су оцене неких ученика из српског, енглеског, математике, физике, хемије и ликовног:"
   ]
  },
  {
   "cell_type": "code",
   "execution_count": 12,
   "metadata": {},
   "outputs": [],
   "source": [
    "# изврши ову ћелију\n",
    "razred = [[\"Ана\",     5, 3, 5, 2, 4, 5],\n",
    "          [\"Бојан\",   5, 5, 5, 5, 5, 5],\n",
    "          [\"Влада\",   4, 5, 3, 4, 5, 4],\n",
    "          [\"Гордана\", 5, 5, 5, 5, 5, 5],\n",
    "          [\"Дејан\",   3, 4, 2, 3, 3, 4],\n",
    "          [\"Ђорђе\",   4, 5, 3, 4, 5, 4],\n",
    "          [\"Елена\",   3, 3, 3, 4, 2, 3],\n",
    "          [\"Жаклина\", 5, 5, 4, 5, 4, 5],\n",
    "          [\"Зоран\",   4, 5, 4, 4, 3, 5],\n",
    "          [\"Ивана\",   2, 2, 2, 2, 2, 5],\n",
    "          [\"Јасна\",   3, 4, 5, 4, 5, 5]]"
   ]
  },
  {
   "cell_type": "markdown",
   "metadata": {},
   "source": [
    "Сада ћемо од ових података направити табелу чије колоне ће се звати \"Име\", \"Српски\", \"Енглески\", \"Математика\", \"Физика\", \"Хемија\", \"Ликовно\" и која ће бити индексирана по колони \"Име\":"
   ]
  },
  {
   "cell_type": "code",
   "execution_count": 13,
   "metadata": {},
   "outputs": [
    {
     "data": {
      "text/html": [
       "<div>\n",
       "<style scoped>\n",
       "    .dataframe tbody tr th:only-of-type {\n",
       "        vertical-align: middle;\n",
       "    }\n",
       "\n",
       "    .dataframe tbody tr th {\n",
       "        vertical-align: top;\n",
       "    }\n",
       "\n",
       "    .dataframe thead th {\n",
       "        text-align: right;\n",
       "    }\n",
       "</style>\n",
       "<table border=\"1\" class=\"dataframe\">\n",
       "  <thead>\n",
       "    <tr style=\"text-align: right;\">\n",
       "      <th></th>\n",
       "      <th>Српски</th>\n",
       "      <th>Енглески</th>\n",
       "      <th>Математика</th>\n",
       "      <th>Физика</th>\n",
       "      <th>Хемија</th>\n",
       "      <th>Ликовно</th>\n",
       "    </tr>\n",
       "    <tr>\n",
       "      <th>Име</th>\n",
       "      <th></th>\n",
       "      <th></th>\n",
       "      <th></th>\n",
       "      <th></th>\n",
       "      <th></th>\n",
       "      <th></th>\n",
       "    </tr>\n",
       "  </thead>\n",
       "  <tbody>\n",
       "    <tr>\n",
       "      <th>Ана</th>\n",
       "      <td>5</td>\n",
       "      <td>3</td>\n",
       "      <td>5</td>\n",
       "      <td>2</td>\n",
       "      <td>4</td>\n",
       "      <td>5</td>\n",
       "    </tr>\n",
       "    <tr>\n",
       "      <th>Бојан</th>\n",
       "      <td>5</td>\n",
       "      <td>5</td>\n",
       "      <td>5</td>\n",
       "      <td>5</td>\n",
       "      <td>5</td>\n",
       "      <td>5</td>\n",
       "    </tr>\n",
       "    <tr>\n",
       "      <th>Влада</th>\n",
       "      <td>4</td>\n",
       "      <td>5</td>\n",
       "      <td>3</td>\n",
       "      <td>4</td>\n",
       "      <td>5</td>\n",
       "      <td>4</td>\n",
       "    </tr>\n",
       "    <tr>\n",
       "      <th>Гордана</th>\n",
       "      <td>5</td>\n",
       "      <td>5</td>\n",
       "      <td>5</td>\n",
       "      <td>5</td>\n",
       "      <td>5</td>\n",
       "      <td>5</td>\n",
       "    </tr>\n",
       "    <tr>\n",
       "      <th>Дејан</th>\n",
       "      <td>3</td>\n",
       "      <td>4</td>\n",
       "      <td>2</td>\n",
       "      <td>3</td>\n",
       "      <td>3</td>\n",
       "      <td>4</td>\n",
       "    </tr>\n",
       "    <tr>\n",
       "      <th>Ђорђе</th>\n",
       "      <td>4</td>\n",
       "      <td>5</td>\n",
       "      <td>3</td>\n",
       "      <td>4</td>\n",
       "      <td>5</td>\n",
       "      <td>4</td>\n",
       "    </tr>\n",
       "    <tr>\n",
       "      <th>Елена</th>\n",
       "      <td>3</td>\n",
       "      <td>3</td>\n",
       "      <td>3</td>\n",
       "      <td>4</td>\n",
       "      <td>2</td>\n",
       "      <td>3</td>\n",
       "    </tr>\n",
       "    <tr>\n",
       "      <th>Жаклина</th>\n",
       "      <td>5</td>\n",
       "      <td>5</td>\n",
       "      <td>4</td>\n",
       "      <td>5</td>\n",
       "      <td>4</td>\n",
       "      <td>5</td>\n",
       "    </tr>\n",
       "    <tr>\n",
       "      <th>Зоран</th>\n",
       "      <td>4</td>\n",
       "      <td>5</td>\n",
       "      <td>4</td>\n",
       "      <td>4</td>\n",
       "      <td>3</td>\n",
       "      <td>5</td>\n",
       "    </tr>\n",
       "    <tr>\n",
       "      <th>Ивана</th>\n",
       "      <td>2</td>\n",
       "      <td>2</td>\n",
       "      <td>2</td>\n",
       "      <td>2</td>\n",
       "      <td>2</td>\n",
       "      <td>5</td>\n",
       "    </tr>\n",
       "    <tr>\n",
       "      <th>Јасна</th>\n",
       "      <td>3</td>\n",
       "      <td>4</td>\n",
       "      <td>5</td>\n",
       "      <td>4</td>\n",
       "      <td>5</td>\n",
       "      <td>5</td>\n",
       "    </tr>\n",
       "  </tbody>\n",
       "</table>\n",
       "</div>"
      ],
      "text/plain": [
       "         Српски  Енглески  Математика  Физика  Хемија  Ликовно\n",
       "Име                                                           \n",
       "Ана           5         3           5       2       4        5\n",
       "Бојан         5         5           5       5       5        5\n",
       "Влада         4         5           3       4       5        4\n",
       "Гордана       5         5           5       5       5        5\n",
       "Дејан         3         4           2       3       3        4\n",
       "Ђорђе         4         5           3       4       5        4\n",
       "Елена         3         3           3       4       2        3\n",
       "Жаклина       5         5           4       5       4        5\n",
       "Зоран         4         5           4       4       3        5\n",
       "Ивана         2         2           2       2       2        5\n",
       "Јасна         3         4           5       4       5        5"
      ]
     },
     "execution_count": 13,
     "metadata": {},
     "output_type": "execute_result"
    }
   ],
   "source": [
    "ocene = pd.DataFrame(razred)\n",
    "ocene.columns=[\"Име\", \"Српски\", \"Енглески\", \"Математика\", \"Физика\", \"Хемија\", \"Ликовно\"]\n",
    "ocene1 = ocene.set_index(\"Име\")\n",
    "ocene1"
   ]
  },
  {
   "cell_type": "markdown",
   "metadata": {},
   "source": [
    "Ако желимо да израчунамо просек по предметима, треба на сваку колону ове табеле да применимо функцију `mean`. Листа са именима свих колона табеле `ocene1` се добија као `ocene1.columns`, па сада само треба да прођемо кроз ову листу и за сваку колону да израчунамо просек:"
   ]
  },
  {
   "cell_type": "code",
   "execution_count": 14,
   "metadata": {},
   "outputs": [
    {
     "name": "stdout",
     "output_type": "stream",
     "text": [
      "Српски -> 3.909090909090909\n",
      "Енглески -> 4.181818181818182\n",
      "Математика -> 3.727272727272727\n",
      "Физика -> 3.8181818181818183\n",
      "Хемија -> 3.909090909090909\n",
      "Ликовно -> 4.545454545454546\n"
     ]
    }
   ],
   "source": [
    "for predmet in ocene1.columns:\n",
    "    print(predmet, \"->\", ocene1[predmet].mean())"
   ]
  },
  {
   "cell_type": "markdown",
   "metadata": {},
   "source": [
    "Да бисмо израчунали просечне оцене сваког ученика функцију `mean` ћемо применити на врсте табеле које добијамо позивом функције `loc`. Погледајмо, прво, како то можемо да урадимо за једног ученика:"
   ]
  },
  {
   "cell_type": "code",
   "execution_count": 15,
   "metadata": {
    "scrolled": true
   },
   "outputs": [
    {
     "name": "stdout",
     "output_type": "stream",
     "text": [
      "Ђорђе има следеће оцене:\n",
      "Српски        4\n",
      "Енглески      5\n",
      "Математика    3\n",
      "Физика        4\n",
      "Хемија        5\n",
      "Ликовно       4\n",
      "Name: Ђорђе, dtype: int64\n",
      "Просек његових оцена је: 4.166666666666667\n"
     ]
    }
   ],
   "source": [
    "print(\"Ђорђе има следеће оцене:\")\n",
    "print(ocene1.loc[\"Ђорђе\"])\n",
    "print(\"Просек његових оцена је:\", ocene1.loc[\"Ђорђе\"].mean())"
   ]
  },
  {
   "cell_type": "markdown",
   "metadata": {},
   "source": [
    "Списак свих ученика се налази у индексној колони, па просеке по свим ученицима можемо да израчунамо овако:"
   ]
  },
  {
   "cell_type": "code",
   "execution_count": 16,
   "metadata": {
    "scrolled": true
   },
   "outputs": [
    {
     "name": "stdout",
     "output_type": "stream",
     "text": [
      "Ана -> 4.0\n",
      "Бојан -> 5.0\n",
      "Влада -> 4.166666666666667\n",
      "Гордана -> 5.0\n",
      "Дејан -> 3.1666666666666665\n",
      "Ђорђе -> 4.166666666666667\n",
      "Елена -> 3.0\n",
      "Жаклина -> 4.666666666666667\n",
      "Зоран -> 4.166666666666667\n",
      "Ивана -> 2.5\n",
      "Јасна -> 4.333333333333333\n"
     ]
    }
   ],
   "source": [
    "for ucenik in ocene1.index:\n",
    "    print(ucenik, \"->\", ocene1.loc[ucenik].mean())"
   ]
  },
  {
   "cell_type": "markdown",
   "metadata": {},
   "source": [
    "## 9.4. Задаци"
   ]
  },
  {
   "cell_type": "markdown",
   "metadata": {},
   "source": [
    "**Задатак 1.** Ученици осмог разреда једне школе су анкетирани о томе коју врсту филмова најрадије гледају. Подаци анкете су дати у следећој табели (у коју нису унети неважећи и бесмислени одговори):\n",
    "\n",
    "| Жанр | 8-1 | 8-2 | 8-3 | 8-4 | 8-5 |\n",
    "|------|-----|-----|-----|-----|-----|\n",
    "| Комедија | 4 | 3 | 5 | 2 | 3 |\n",
    "| Хорор | 1 | 0 | 2 | 1 | 6 |\n",
    "| Научна фантастика | 10 | 7 | 9 | 8 | 9 |\n",
    "| Авантуре | 4 | 3 | 4 | 2 | 2 |\n",
    "| Историјски | 1 | 0 | 2 | 0 | 0 |\n",
    "| Романтични | 11 | 10 | 7 | 9 | 8 |"
   ]
  },
  {
   "cell_type": "markdown",
   "metadata": {},
   "source": [
    "_(а)_ Додај нову ћелију испод ове, па у њој формирај одговарајућу табелу позивом функције _DataFrame_. Индексирај табелу колоном \"Жанр\"."
   ]
  },
  {
   "cell_type": "markdown",
   "metadata": {},
   "source": [
    "_(б)_ Израчунај и испиши колико гласова је добио сваки од наведених жанрова."
   ]
  },
  {
   "cell_type": "markdown",
   "metadata": {},
   "source": [
    "_(в)_ За сваки разред израчунај и испиши колико је било валидних гласова."
   ]
  },
  {
   "cell_type": "markdown",
   "metadata": {},
   "source": [
    "_(г)_ Колико је укупно ученика осмих разреда учествовало у анкетирању? (Рачунамо само ученике који су дали валидне одговоре на анкету.)"
   ]
  },
  {
   "cell_type": "markdown",
   "metadata": {},
   "source": [
    "**Задатак 2.** Нутритивни подаци за неке намирнице су дати у следећој табели:\n",
    "\n",
    "| Намирница (100г) | Енергетска вредност (kcal) | Угљени хидрати (г) | Беланчевине (г) | Масти (г) |\n",
    "|--|--|--|--|--|\n",
    "| Црни хлеб | 250 | 48,2 | 8,4 | 1,0 |\n",
    "| Бели хлеб | 280 | 57,5 | 6,8 | 0,5 |\n",
    "| Кисела павлака (10% м.м.) | 127 | 4,0 | 3,1 | 10,5 |\n",
    "| Маргарин | 532 | 4,6 | 3,2 | 1,5 |\n",
    "| Јогурт | 48 | 4,7 | 4,0 | 3,3 |\n",
    "| Млеко (2,8% м.м.) | 57 | 4,7 | 3,3 | 2,8 |\n",
    "| Салама паризер | 523 | 1,0 | 17,0 | 47,0 |\n",
    "| Пршута | 268 | 0,0 | 25,5 | 18,4 |\n",
    "| Пилећа прса | 110 | 0,0 | 23,1 | 1,2 |\n",
    "\n",
    "У ћелији испод ови подаци су припремљени у облику индексиране _DataFrame_ структуре (са скраћеним именима):"
   ]
  },
  {
   "cell_type": "code",
   "execution_count": null,
   "metadata": {},
   "outputs": [],
   "source": [
    "namirnice = pd.DataFrame([\n",
    "    [\"Цхлеб\", 250, 48.2, 8.4, 1.0],\n",
    "    [\"Бхлеб\", 280, 57.5, 6.8, 0.5],\n",
    "    [\"Павлака\", 127, 4.0, 3.1, 10.5],\n",
    "    [\"Маргарин\", 532, 4.6, 3.2, 1.5],\n",
    "    [\"Јогурт\", 48, 4.7, 4.0, 3.3],\n",
    "    [\"Млеко\", 57, 4.7, 3.3, 2.8],\n",
    "    [\"Паризер\", 523, 1.0, 17.0, 47.0],\n",
    "    [\"Пршута\", 268, 0.0, 25.5, 18.4],\n",
    "    [\"ПилПрса\", 110, 0.0, 23.1, 1.2]])\n",
    "namirnice.columns=[\"Намирница\", \"ЕнергВр\", \"УХ\", \"Бел\", \"Масти\"]\n",
    "namirnice1 = namirnice.set_index(\"Намирница\")"
   ]
  },
  {
   "cell_type": "markdown",
   "metadata": {},
   "source": [
    "_(а)_ Милош је за доручак појео два парчета белог хлеба и попио је шољу млека. Свако парче хлеба је било намазано павлаком и имало је један шнит пршуте. Колика је енергетска вредност Милошевог доручка (у kcal), ако претпоставимо да једно парче хлеба има 100 г, да је за мазање једног парчета хлеба довољно 10 г премаза, да један шнит пршуте има 20г и да шоља млека има 2 дл (што је приближно 200 г)?\n",
    "\n",
    "Немој рачунати ручно, већ у ћелији испод напиши одговарајући Пајтон израз који из табеле `namirnice1` вади податке који ти требају."
   ]
  },
  {
   "cell_type": "code",
   "execution_count": null,
   "metadata": {},
   "outputs": [],
   "source": []
  },
  {
   "cell_type": "markdown",
   "metadata": {},
   "source": [
    "_(б)_ Колико грама масти је било у Милошевом доручку?"
   ]
  },
  {
   "cell_type": "code",
   "execution_count": null,
   "metadata": {},
   "outputs": [],
   "source": []
  },
  {
   "cell_type": "markdown",
   "metadata": {},
   "source": [
    "_(в)_ Приказати линијским дијаграмом количину угљених хидрата у наведеним намирницама."
   ]
  },
  {
   "cell_type": "code",
   "execution_count": null,
   "metadata": {},
   "outputs": [],
   "source": []
  }
 ],
 "metadata": {
  "kernelspec": {
   "display_name": "Python 3",
   "language": "python",
   "name": "python3"
  },
  "language_info": {
   "codemirror_mode": {
    "name": "ipython",
    "version": 3
   },
   "file_extension": ".py",
   "mimetype": "text/x-python",
   "name": "python",
   "nbconvert_exporter": "python",
   "pygments_lexer": "ipython3",
   "version": "3.6.5"
  }
 },
 "nbformat": 4,
 "nbformat_minor": 2
}
