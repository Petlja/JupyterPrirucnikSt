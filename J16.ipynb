{
 "cells": [
  {
   "cell_type": "markdown",
   "metadata": {},
   "source": [
    "# 16. час: Утврђивање градива\n",
    "\n",
    "Сада ћемо мало застати и осврнути се на материјал са последња два часа. Задатке (осим прва два) реши у Џупајтеру."
   ]
  },
  {
   "cell_type": "markdown",
   "metadata": {},
   "source": [
    "**Задатак 1.** Погледај програм и дијаграм, па одговори на следећа питања:"
   ]
  },
  {
   "cell_type": "code",
   "execution_count": 2,
   "metadata": {},
   "outputs": [
    {
     "data": {
      "image/png": "[encoded data removed]",
      "text/plain": [
       "<Figure size 720x360 with 1 Axes>"
      ]
     },
     "metadata": {},
     "output_type": "display_data"
    }
   ],
   "source": [
    "import pandas as pd\n",
    "import matplotlib.pyplot as plt\n",
    "\n",
    "podaci = [[\"Ана\",     \"ж\", 13, 46, 160],\n",
    "          [\"Бојан\",   \"м\", 14, 52, 165],\n",
    "          [\"Влада\",   \"м\", 13, 47, 157],\n",
    "          [\"Гордана\", \"ж\", 15, 54, 165],\n",
    "          [\"Дејан\",   \"м\", 15, 56, 163],\n",
    "          [\"Ђорђе\",   \"м\", 13, 45, 159]]\n",
    "\n",
    "tabela = pd.DataFrame(podaci)\n",
    "tabela.columns=[\"Име\", \"Пол\", \"Старост\", \"Тежина\", \"Висина\"]\n",
    "tabela1=tabela.set_index(\"Име\")\n",
    "\n",
    "tabela_po_visini = tabela1.sort_values(by=\"Висина\")\n",
    "\n",
    "plt.figure(figsize=(10,5))\n",
    "plt.plot(tabela_po_visini.index, tabela_po_visini[\"Висина\"])\n",
    "plt.show()\n",
    "plt.close()"
   ]
  },
  {
   "cell_type": "markdown",
   "metadata": {},
   "source": [
    "1. Зашто крива на дијаграму расте, када то није случај са подацима у листи `podaci`?\n",
    "2. Зашто је сегмент дијаграма на самом крају хоризонталан?\n",
    "2. Шта треба изменити у програму да бисмо добили графикон који опада?"
   ]
  },
  {
   "cell_type": "markdown",
   "metadata": {},
   "source": [
    "**Задатак 2.** Погледај пажљиво наредбе у следећој ћелији, па одговори на питања:"
   ]
  },
  {
   "cell_type": "code",
   "execution_count": null,
   "metadata": {},
   "outputs": [],
   "source": [
    "import pandas as pd\n",
    "aditivi = pd.read_excel(\"podaci/Aditivi.xlsx\", sheet_name=\"Адитиви\", na_filter=False)"
   ]
  },
  {
   "cell_type": "markdown",
   "metadata": {},
   "source": [
    "1. Шта ће урадити функција `read_excel` ако се уклони аргумент `sheet_name=\"Адитиви\"` (знамо да табела има само један радни лист)?\n",
    "2. Шта значи аргумент `na_filter=False` функције `read_excel`?\n"
   ]
  },
  {
   "cell_type": "markdown",
   "metadata": {},
   "source": [
    "**Задатак 3.** Ученици једног разреда су скакали у даљ. Сваки ученик је скакао три пута и резултати су дати у датотеци _SkokUDalj.csv_ која се налази у фолдеру _podaci_. Табела има заглавље и састоји се од четири колоне: \"Презиме и име\", \"Скок1\", \"Скок2\" и \"Скок3\".\n",
    "\n",
    "_(а)_ Учитај датотеку у структуру података _DataFrame_."
   ]
  },
  {
   "cell_type": "markdown",
   "metadata": {},
   "source": [
    "_(б)_ Издвој из табеле оне редове које садрже ученике који су начинили бар један преступ. Преступ је у табели означен тако што је дужина одговарајућег скока постављена на 0."
   ]
  },
  {
   "cell_type": "markdown",
   "metadata": {},
   "source": [
    "**Задатак 4.** У табели `podaci/SO2.xlsx` налазе се резултати мерења концентрације сумпор-диоксида у 2017. години у неким градовима Србије. Табела има четири колоне:\n",
    "\n",
    "* МернаСтаница = Мерна станица\n",
    "* СГВ = Средња годишња вредност у микрограмима по кубном метру\n",
    "* БД125 = Број дана са више од 125 микрограма по кубном метру\n",
    "* МДВ = Максимална дневна вредност у микрограмима по кубном метру\n",
    "\n",
    "_(а)_ Учитај ову табелу у структуру података _DataFrame_."
   ]
  },
  {
   "cell_type": "markdown",
   "metadata": {},
   "source": [
    "_(б)_ Сортирај подаке по колони СГВ и прикажи вредности у овој колони хистограмом."
   ]
  },
  {
   "cell_type": "markdown",
   "metadata": {},
   "source": [
    "**Задатак 5.** У табели `podaci/Cricket.xlsx` се налазе подаци о најбољим играчима крикета. Ова табела има заглавље."
   ]
  },
  {
   "cell_type": "markdown",
   "metadata": {},
   "source": [
    "_(а)_ Учитај ову табелу у структуру података _DataFrame_ и испиши првих неколико редова табеле да видиш како изгледа. Индексирај табелу колоном \"Player\"."
   ]
  },
  {
   "cell_type": "markdown",
   "metadata": {},
   "source": [
    "_(б)_ Додај табели нову колону \"YP\" (_Years Played_) и у њу упиши колико година је сваки играч био активан. (За сваког играча од године у колони \"To\" одузети годину у колони \"From\")."
   ]
  },
  {
   "cell_type": "markdown",
   "metadata": {},
   "source": [
    "_(в)_ Додај табели нову колону \"ARY\" (_Average Runs per Year_) и у њу упиши количник бројева из колоне \"Runs\" и \"YP\". (ARY = Runs / YP)."
   ]
  },
  {
   "cell_type": "markdown",
   "metadata": {},
   "source": [
    "_(г)_ Сортирај табелу по колони \"ARY\" од највећих ка најмањим вредностима и прикажи првих 25 редова табеле. У ком веку су били активни скоро сви од ових 25 играча? Шта мислиш зашто?"
   ]
  },
  {
   "cell_type": "markdown",
   "metadata": {},
   "source": [
    "**Задатак 6.** У наредној ћелији се налазе подаци о неколико ученика. За сваког ученика је наведено његово презиме, име, ЈМБГ, пол, разред који похађа и просек на крају тог разреда:"
   ]
  },
  {
   "cell_type": "code",
   "execution_count": null,
   "metadata": {},
   "outputs": [],
   "source": [
    "# изврши ову ћелију\n",
    "podaci = [\n",
    "    [\"Петровић\",  \"Петар\", \"0308003800019\", \"м\", 8, 4.52],\n",
    "    [\"Јаснић\",    \"Јасна\", \"1210003805026\", \"ж\", 8, 5.00],\n",
    "    [\"Аничић\",    \"Аница\", \"1105004805019\", \"ж\", 7, 4.11],\n",
    "    [\"Веснић\",    \"Весна\", \"2901005705011\", \"ж\", 6, 5.00],\n",
    "    [\"Ђорђевић\",  \"Ђорђе\", \"1504005700012\", \"м\", 6, 3.12],\n",
    "    [\"Милошев\",   \"Милош\", \"1506004400056\", \"м\", 7, 2.51],\n",
    "    [\"Милошев\",   \"Петар\", \"1506004400057\", \"м\", 7, 2.48],\n",
    "    [\"Ненадовић\", \"Ненад\", \"2109003800046\", \"м\", 8, 3.58],\n",
    "    [\"Ненадовић\", \"Јасна\", \"2109003805021\", \"ж\", 8, 4.21]]"
   ]
  },
  {
   "cell_type": "markdown",
   "metadata": {},
   "source": [
    "_(а)_ Формирај одговарајућу табелу позивом функције _DataFrame_."
   ]
  },
  {
   "cell_type": "markdown",
   "metadata": {},
   "source": [
    "_(б)_ Прикажи секторским дијаграмом полну структуру ове групе."
   ]
  },
  {
   "cell_type": "markdown",
   "metadata": {},
   "source": [
    "_(в)_ Прикажи секторским дијаграмом старосну структуру ове групе узимајући у обзир разред који је ученик завршио."
   ]
  },
  {
   "cell_type": "markdown",
   "metadata": {},
   "source": [
    "_(г)_ Коју колону је најбоље одабрати као кључ за индексирање ове табеле? У ћелији испод ове направи нову табелу која се добија индексирањем претходне табеле одабраном колоном."
   ]
  },
  {
   "cell_type": "markdown",
   "metadata": {},
   "source": [
    "_(д)_ Шта мислиш, зашто сваки држављанин наше државе има ЈМБГ?"
   ]
  },
  {
   "cell_type": "markdown",
   "metadata": {},
   "source": [
    "_(ђ)_ Направи нову табелу коју чине само ученици осмог разреда."
   ]
  },
  {
   "cell_type": "markdown",
   "metadata": {},
   "source": [
    "_(е)_ Направи нову табелу коју чине само врло добри ученици."
   ]
  },
  {
   "cell_type": "markdown",
   "metadata": {},
   "source": [
    "_(ж)_ Направи нову табелу коју чине само дечаци који нису одлични."
   ]
  },
  {
   "cell_type": "markdown",
   "metadata": {},
   "source": [
    " **Задатак 7.** У датотеци _podaci/EUProjPop.xlsx_ се налазе подаци о очекиваном броју становника ЕУ до 2080. године. Ова табела има два радна листа: _Baseline_ на коме се налазе подаци о очекиваном броју становника, и _Migration_ на коме се налазе подаци о очекиваном броју становника у случају повећаног броја миграната у земље Европске уније.\n",
    " \n",
    "_(а)_ Учитај табелу са радног листа _Baseline_ у структуру података _DataFrame_ и прикажи првих неколико редова табеле да разумеш њену структуру."
   ]
  },
  {
   "cell_type": "markdown",
   "metadata": {},
   "source": [
    "_(б)_ Додај табели нову врсту \"EU-UK\", па израчунај и у ту врсту упиши укупан очекивани број станвника ЕУ за сваку од наведених година _без становника Велике Британије_."
   ]
  },
  {
   "cell_type": "markdown",
   "metadata": {},
   "source": [
    "_(г)_ Табелу добијену на овај начин упиши у датотеку _podaci/EU-UK.xlsx_"
   ]
  }
 ],
 "metadata": {
  "kernelspec": {
   "display_name": "Python 3",
   "language": "python",
   "name": "python3"
  },
  "language_info": {
   "codemirror_mode": {
    "name": "ipython",
    "version": 3
   },
   "file_extension": ".py",
   "mimetype": "text/x-python",
   "name": "python",
   "nbconvert_exporter": "python",
   "pygments_lexer": "ipython3",
   "version": "3.6.5"
  }
 },
 "nbformat": 4,
 "nbformat_minor": 2
}
