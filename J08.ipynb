{
 "cells": [
  {
   "cell_type": "markdown",
   "metadata": {},
   "source": [
    "# 8. час: Табеларно представљени подаци\n",
    "\n",
    "На овом часу ћемо говорити о:\n",
    "1. представљању табеларно задатих података помоћу листи у Пајтону,\n",
    "2. ефикаснијем представљању табеларних података користећи библиотеку _pandas_, и\n",
    "3. визуелизацији табеларно представљених података."
   ]
  },
  {
   "cell_type": "markdown",
   "metadata": {},
   "source": [
    "## 8.1. Представљање табеларно задатих података помоћу листи\n",
    "\n",
    "Најчешћи начин да органзујемо велике количине података је да их представимо табелом. Рецимо, ова табела садржи податке о једној групи деце (при чему је, наравно, старост изражена у годинама, тежина у килограмима, а висина у центиметрима):\n",
    "\n",
    "| __Име__ | __Пол__ | __Старост__ | __Тежина__ | __Висина__ |\n",
    "|---|---|---|---|---|\n",
    "|      Ана | ж | 13 | 46 | 160 |\n",
    "|    Бојан | м | 14 | 52 | 165 |\n",
    "|    Влада | м | 13 | 47 | 157 |\n",
    "|  Гордана | ж | 15 | 54 | 165 |\n",
    "|    Дејан | м | 15 | 56 | 163 |\n",
    "|    Ђорђе | м | 13 | 45 | 159 |\n",
    "|    Елена | ж | 14 | 49 | 161 |\n",
    "|  Жаклина | ж | 15 | 52 | 164 |\n",
    "|    Зоран | м | 15 | 57 | 167 |\n",
    "|    Ивана | ж | 13 | 45 | 158 |\n",
    "|    Јасна | ж | 14 | 51 | 162 |\n",
    "\n",
    "Да бисмо могли машински да обрађујемо и анализирамо податке, прво их морамо представити у облику неке структуре података. Један једноставан начин да се то уради је да сваки ред табеле представимо једном листом, и да потом све те листе запакујемо у једну велику листу, рецимо овако:"
   ]
  },
  {
   "cell_type": "code",
   "execution_count": 1,
   "metadata": {},
   "outputs": [],
   "source": [
    "podaci = [[\"Ана\",     \"ж\", 13, 46, 160],\n",
    "          [\"Бојан\",   \"м\", 14, 52, 165],\n",
    "          [\"Влада\",   \"м\", 13, 47, 157],\n",
    "          [\"Гордана\", \"ж\", 15, 54, 165],\n",
    "          [\"Дејан\",   \"м\", 15, 56, 163],\n",
    "          [\"Ђорђе\",   \"м\", 13, 45, 159],\n",
    "          [\"Елена\",   \"ж\", 14, 49, 161],\n",
    "          [\"Жаклина\", \"ж\", 15, 52, 164],\n",
    "          [\"Зоран\",   \"м\", 15, 57, 167],\n",
    "          [\"Ивана\",   \"ж\", 13, 45, 158],\n",
    "          [\"Јасна\",   \"ж\", 14, 51, 162]]"
   ]
  },
  {
   "cell_type": "markdown",
   "metadata": {},
   "source": [
    "Из овако представљених података лако можемо добити податке о сваком појединачном детету у групи. Рецимо, податке о Дејану добијамо тако што испишемо елемент листе са индексом 4 (_Пажња! Први елемент листе има индекс 0, зато подаци о Дејану који су наведени у 5. реду табеле имају индекс 4_):"
   ]
  },
  {
   "cell_type": "code",
   "execution_count": 2,
   "metadata": {},
   "outputs": [
    {
     "data": {
      "text/plain": [
       "['Дејан', 'м', 15, 56, 163]"
      ]
     },
     "execution_count": 2,
     "metadata": {},
     "output_type": "execute_result"
    }
   ],
   "source": [
    "podaci[4]"
   ]
  },
  {
   "cell_type": "markdown",
   "metadata": {},
   "source": [
    "Овај начин представљања података, међутим, није погодан за обраде по колонама. Рецимо, ако желимо да израчунамо просечну висину деце у групи морамо да пишемо програм. То није немогуће, чак није ни тешко, али је непрактично. Ево програма:"
   ]
  },
  {
   "cell_type": "code",
   "execution_count": 3,
   "metadata": {},
   "outputs": [
    {
     "data": {
      "text/plain": [
       "161.9090909090909"
      ]
     },
     "execution_count": 3,
     "metadata": {},
     "output_type": "execute_result"
    }
   ],
   "source": [
    "sum = 0\n",
    "for dete in podaci:\n",
    "    sum += dete[4]\n",
    "float(sum) / len(podaci)"
   ]
  },
  {
   "cell_type": "markdown",
   "metadata": {},
   "source": [
    "Програм ради на следећи начин:\n",
    "\n",
    "* прво помоћну променљиву `sum` поставимо на нулу (у њој ће се полако акумулирати збир висина све деце у групи);\n",
    "* након тога циклус `for dete in podaci:` прође кроз свако дете у групи (јер сваки елемент листе `podaci` поредставља податке о једном детету) и на суму дода његову висину (висина детета се налази на петом месту у групи података за то дете, а то је елемент листе са индексом 4);\n",
    "* коначно, добијени збир поделимо бројем података да бисмо израчунали просек.\n",
    "\n",
    "Као што смо већ рекли, ово није јако тешко, али је непрактично. Треба нам флексибилнија структура података."
   ]
  },
  {
   "cell_type": "markdown",
   "metadata": {},
   "source": [
    "## 8.2. Библиотека _pandas_, структура података _DataFrame_ и рад са колонама табеле\n",
    "\n",
    "За ефикасно манипулисање табеларно представљеним подацима у Пајтону развијена је библиотека _pandas_. Њу можемо увести као што смо увозили и остале библиотеке (и уз пут ћемо јој дати надимак да бисмо мање морали да куцамо):"
   ]
  },
  {
   "cell_type": "code",
   "execution_count": 4,
   "metadata": {},
   "outputs": [],
   "source": [
    "import pandas as pd"
   ]
  },
  {
   "cell_type": "markdown",
   "metadata": {},
   "source": [
    "Из ове библиотеке ћемо користити структуру података која се зове _DataFrame_ (енгл. _data_ значи \"подаци\", _frame_ значи \"оквир\", тако да _DataFrame_ значи \"оквир са подацима\", односно \"табела\").\n",
    "\n",
    "Податке о деци сада лако можемо да препакујемо у _DataFrame_ позивом функције са истим именом:"
   ]
  },
  {
   "cell_type": "code",
   "execution_count": 5,
   "metadata": {},
   "outputs": [],
   "source": [
    "tabela = pd.DataFrame(podaci)"
   ]
  },
  {
   "cell_type": "markdown",
   "metadata": {},
   "source": [
    "Претходна команда није дала никакв излаз. Она је просто препаковала податке наведене у листи `podaci` у нову структуру података. Да бисмо се уверили да се ради само о препакивању, исписаћемо садржај променљиве `tabela`:"
   ]
  },
  {
   "cell_type": "code",
   "execution_count": 6,
   "metadata": {},
   "outputs": [
    {
     "data": {
      "text/html": [
       "<div>\n",
       "<style scoped>\n",
       "    .dataframe tbody tr th:only-of-type {\n",
       "        vertical-align: middle;\n",
       "    }\n",
       "\n",
       "    .dataframe tbody tr th {\n",
       "        vertical-align: top;\n",
       "    }\n",
       "\n",
       "    .dataframe thead th {\n",
       "        text-align: right;\n",
       "    }\n",
       "</style>\n",
       "<table border=\"1\" class=\"dataframe\">\n",
       "  <thead>\n",
       "    <tr style=\"text-align: right;\">\n",
       "      <th></th>\n",
       "      <th>0</th>\n",
       "      <th>1</th>\n",
       "      <th>2</th>\n",
       "      <th>3</th>\n",
       "      <th>4</th>\n",
       "    </tr>\n",
       "  </thead>\n",
       "  <tbody>\n",
       "    <tr>\n",
       "      <th>0</th>\n",
       "      <td>Ана</td>\n",
       "      <td>ж</td>\n",
       "      <td>13</td>\n",
       "      <td>46</td>\n",
       "      <td>160</td>\n",
       "    </tr>\n",
       "    <tr>\n",
       "      <th>1</th>\n",
       "      <td>Бојан</td>\n",
       "      <td>м</td>\n",
       "      <td>14</td>\n",
       "      <td>52</td>\n",
       "      <td>165</td>\n",
       "    </tr>\n",
       "    <tr>\n",
       "      <th>2</th>\n",
       "      <td>Влада</td>\n",
       "      <td>м</td>\n",
       "      <td>13</td>\n",
       "      <td>47</td>\n",
       "      <td>157</td>\n",
       "    </tr>\n",
       "    <tr>\n",
       "      <th>3</th>\n",
       "      <td>Гордана</td>\n",
       "      <td>ж</td>\n",
       "      <td>15</td>\n",
       "      <td>54</td>\n",
       "      <td>165</td>\n",
       "    </tr>\n",
       "    <tr>\n",
       "      <th>4</th>\n",
       "      <td>Дејан</td>\n",
       "      <td>м</td>\n",
       "      <td>15</td>\n",
       "      <td>56</td>\n",
       "      <td>163</td>\n",
       "    </tr>\n",
       "    <tr>\n",
       "      <th>5</th>\n",
       "      <td>Ђорђе</td>\n",
       "      <td>м</td>\n",
       "      <td>13</td>\n",
       "      <td>45</td>\n",
       "      <td>159</td>\n",
       "    </tr>\n",
       "    <tr>\n",
       "      <th>6</th>\n",
       "      <td>Елена</td>\n",
       "      <td>ж</td>\n",
       "      <td>14</td>\n",
       "      <td>49</td>\n",
       "      <td>161</td>\n",
       "    </tr>\n",
       "    <tr>\n",
       "      <th>7</th>\n",
       "      <td>Жаклина</td>\n",
       "      <td>ж</td>\n",
       "      <td>15</td>\n",
       "      <td>52</td>\n",
       "      <td>164</td>\n",
       "    </tr>\n",
       "    <tr>\n",
       "      <th>8</th>\n",
       "      <td>Зоран</td>\n",
       "      <td>м</td>\n",
       "      <td>15</td>\n",
       "      <td>57</td>\n",
       "      <td>167</td>\n",
       "    </tr>\n",
       "    <tr>\n",
       "      <th>9</th>\n",
       "      <td>Ивана</td>\n",
       "      <td>ж</td>\n",
       "      <td>13</td>\n",
       "      <td>45</td>\n",
       "      <td>158</td>\n",
       "    </tr>\n",
       "    <tr>\n",
       "      <th>10</th>\n",
       "      <td>Јасна</td>\n",
       "      <td>ж</td>\n",
       "      <td>14</td>\n",
       "      <td>51</td>\n",
       "      <td>162</td>\n",
       "    </tr>\n",
       "  </tbody>\n",
       "</table>\n",
       "</div>"
      ],
      "text/plain": [
       "          0  1   2   3    4\n",
       "0       Ана  ж  13  46  160\n",
       "1     Бојан  м  14  52  165\n",
       "2     Влада  м  13  47  157\n",
       "3   Гордана  ж  15  54  165\n",
       "4     Дејан  м  15  56  163\n",
       "5     Ђорђе  м  13  45  159\n",
       "6     Елена  ж  14  49  161\n",
       "7   Жаклина  ж  15  52  164\n",
       "8     Зоран  м  15  57  167\n",
       "9     Ивана  ж  13  45  158\n",
       "10    Јасна  ж  14  51  162"
      ]
     },
     "execution_count": 6,
     "metadata": {},
     "output_type": "execute_result"
    }
   ],
   "source": [
    "tabela"
   ]
  },
  {
   "cell_type": "markdown",
   "metadata": {},
   "source": [
    "Да би табела била прегледнија, даћемо колонама име. Колонама се име даје приликом препакивања, тако што се листа са именима колона проследи помоћном параметру `columns`:"
   ]
  },
  {
   "cell_type": "code",
   "execution_count": 7,
   "metadata": {},
   "outputs": [
    {
     "data": {
      "text/html": [
       "<div>\n",
       "<style scoped>\n",
       "    .dataframe tbody tr th:only-of-type {\n",
       "        vertical-align: middle;\n",
       "    }\n",
       "\n",
       "    .dataframe tbody tr th {\n",
       "        vertical-align: top;\n",
       "    }\n",
       "\n",
       "    .dataframe thead th {\n",
       "        text-align: right;\n",
       "    }\n",
       "</style>\n",
       "<table border=\"1\" class=\"dataframe\">\n",
       "  <thead>\n",
       "    <tr style=\"text-align: right;\">\n",
       "      <th></th>\n",
       "      <th>Име</th>\n",
       "      <th>Пол</th>\n",
       "      <th>Старост</th>\n",
       "      <th>Тежина</th>\n",
       "      <th>Висина</th>\n",
       "    </tr>\n",
       "  </thead>\n",
       "  <tbody>\n",
       "    <tr>\n",
       "      <th>0</th>\n",
       "      <td>Ана</td>\n",
       "      <td>ж</td>\n",
       "      <td>13</td>\n",
       "      <td>46</td>\n",
       "      <td>160</td>\n",
       "    </tr>\n",
       "    <tr>\n",
       "      <th>1</th>\n",
       "      <td>Бојан</td>\n",
       "      <td>м</td>\n",
       "      <td>14</td>\n",
       "      <td>52</td>\n",
       "      <td>165</td>\n",
       "    </tr>\n",
       "    <tr>\n",
       "      <th>2</th>\n",
       "      <td>Влада</td>\n",
       "      <td>м</td>\n",
       "      <td>13</td>\n",
       "      <td>47</td>\n",
       "      <td>157</td>\n",
       "    </tr>\n",
       "    <tr>\n",
       "      <th>3</th>\n",
       "      <td>Гордана</td>\n",
       "      <td>ж</td>\n",
       "      <td>15</td>\n",
       "      <td>54</td>\n",
       "      <td>165</td>\n",
       "    </tr>\n",
       "    <tr>\n",
       "      <th>4</th>\n",
       "      <td>Дејан</td>\n",
       "      <td>м</td>\n",
       "      <td>15</td>\n",
       "      <td>56</td>\n",
       "      <td>163</td>\n",
       "    </tr>\n",
       "    <tr>\n",
       "      <th>5</th>\n",
       "      <td>Ђорђе</td>\n",
       "      <td>м</td>\n",
       "      <td>13</td>\n",
       "      <td>45</td>\n",
       "      <td>159</td>\n",
       "    </tr>\n",
       "    <tr>\n",
       "      <th>6</th>\n",
       "      <td>Елена</td>\n",
       "      <td>ж</td>\n",
       "      <td>14</td>\n",
       "      <td>49</td>\n",
       "      <td>161</td>\n",
       "    </tr>\n",
       "    <tr>\n",
       "      <th>7</th>\n",
       "      <td>Жаклина</td>\n",
       "      <td>ж</td>\n",
       "      <td>15</td>\n",
       "      <td>52</td>\n",
       "      <td>164</td>\n",
       "    </tr>\n",
       "    <tr>\n",
       "      <th>8</th>\n",
       "      <td>Зоран</td>\n",
       "      <td>м</td>\n",
       "      <td>15</td>\n",
       "      <td>57</td>\n",
       "      <td>167</td>\n",
       "    </tr>\n",
       "    <tr>\n",
       "      <th>9</th>\n",
       "      <td>Ивана</td>\n",
       "      <td>ж</td>\n",
       "      <td>13</td>\n",
       "      <td>45</td>\n",
       "      <td>158</td>\n",
       "    </tr>\n",
       "    <tr>\n",
       "      <th>10</th>\n",
       "      <td>Јасна</td>\n",
       "      <td>ж</td>\n",
       "      <td>14</td>\n",
       "      <td>51</td>\n",
       "      <td>162</td>\n",
       "    </tr>\n",
       "  </tbody>\n",
       "</table>\n",
       "</div>"
      ],
      "text/plain": [
       "        Име Пол  Старост  Тежина  Висина\n",
       "0       Ана   ж       13      46     160\n",
       "1     Бојан   м       14      52     165\n",
       "2     Влада   м       13      47     157\n",
       "3   Гордана   ж       15      54     165\n",
       "4     Дејан   м       15      56     163\n",
       "5     Ђорђе   м       13      45     159\n",
       "6     Елена   ж       14      49     161\n",
       "7   Жаклина   ж       15      52     164\n",
       "8     Зоран   м       15      57     167\n",
       "9     Ивана   ж       13      45     158\n",
       "10    Јасна   ж       14      51     162"
      ]
     },
     "execution_count": 7,
     "metadata": {},
     "output_type": "execute_result"
    }
   ],
   "source": [
    "tabela = pd.DataFrame(podaci)\n",
    "tabela.columns=[\"Име\", \"Пол\", \"Старост\", \"Тежина\", \"Висина\"]\n",
    "tabela"
   ]
  },
  {
   "cell_type": "markdown",
   "metadata": {},
   "source": [
    "Када свака колона има своје име, можемо да приступимо појединачним колонама:"
   ]
  },
  {
   "cell_type": "code",
   "execution_count": 8,
   "metadata": {},
   "outputs": [
    {
     "data": {
      "text/plain": [
       "0         Ана\n",
       "1       Бојан\n",
       "2       Влада\n",
       "3     Гордана\n",
       "4       Дејан\n",
       "5       Ђорђе\n",
       "6       Елена\n",
       "7     Жаклина\n",
       "8       Зоран\n",
       "9       Ивана\n",
       "10      Јасна\n",
       "Name: Име, dtype: object"
      ]
     },
     "execution_count": 8,
     "metadata": {},
     "output_type": "execute_result"
    }
   ],
   "source": [
    "tabela[\"Име\"]"
   ]
  },
  {
   "cell_type": "code",
   "execution_count": 9,
   "metadata": {},
   "outputs": [
    {
     "data": {
      "text/plain": [
       "0     160\n",
       "1     165\n",
       "2     157\n",
       "3     165\n",
       "4     163\n",
       "5     159\n",
       "6     161\n",
       "7     164\n",
       "8     167\n",
       "9     158\n",
       "10    162\n",
       "Name: Висина, dtype: int64"
      ]
     },
     "execution_count": 9,
     "metadata": {},
     "output_type": "execute_result"
    }
   ],
   "source": [
    "tabela[\"Висина\"]"
   ]
  },
  {
   "cell_type": "markdown",
   "metadata": {},
   "source": [
    "Имена свих колона су увек доступна у облику листе овако:"
   ]
  },
  {
   "cell_type": "code",
   "execution_count": 10,
   "metadata": {},
   "outputs": [
    {
     "data": {
      "text/plain": [
       "Index(['Име', 'Пол', 'Старост', 'Тежина', 'Висина'], dtype='object')"
      ]
     },
     "execution_count": 10,
     "metadata": {},
     "output_type": "execute_result"
    }
   ],
   "source": [
    "tabela.columns"
   ]
  },
  {
   "cell_type": "markdown",
   "metadata": {},
   "source": [
    "Pозивом једне од следећих функција лако можемо да вршимо elementarnu анализу података који су представљени табелом:\n",
    "* `sum` -- рачуна збир елемената у колони (сума);\n",
    "* `mean` -- рачуна просек елемената у колони (аритметичка средина се на енглеском каже _arithmetic mean_);\n",
    "* `min` -- рачуна вредност најмањег елемента у колони (минимум);\n",
    "* `max` -- рачуна вредност највећег елемента у колони (максимум).\n",
    "\n",
    "На пример, висина најнижег детета у групи је:"
   ]
  },
  {
   "cell_type": "code",
   "execution_count": 11,
   "metadata": {},
   "outputs": [
    {
     "data": {
      "text/plain": [
       "157"
      ]
     },
     "execution_count": 11,
     "metadata": {},
     "output_type": "execute_result"
    }
   ],
   "source": [
    "tabela[\"Висина\"].min()"
   ]
  },
  {
   "cell_type": "markdown",
   "metadata": {},
   "source": [
    "Најстарије дете у групи има оволико година:"
   ]
  },
  {
   "cell_type": "code",
   "execution_count": 12,
   "metadata": {},
   "outputs": [
    {
     "data": {
      "text/plain": [
       "15"
      ]
     },
     "execution_count": 12,
     "metadata": {},
     "output_type": "execute_result"
    }
   ],
   "source": [
    "tabela[\"Старост\"].max()"
   ]
  },
  {
   "cell_type": "markdown",
   "metadata": {},
   "source": [
    "Просечна висина деце у групи је:"
   ]
  },
  {
   "cell_type": "code",
   "execution_count": 13,
   "metadata": {},
   "outputs": [
    {
     "data": {
      "text/plain": [
       "161.9090909090909"
      ]
     },
     "execution_count": 13,
     "metadata": {},
     "output_type": "execute_result"
    }
   ],
   "source": [
    "tabela[\"Висина\"].mean()"
   ]
  },
  {
   "cell_type": "markdown",
   "metadata": {},
   "source": [
    "Да ли цела група може да стане у лифт чија носивост је 600 кг?"
   ]
  },
  {
   "cell_type": "code",
   "execution_count": 14,
   "metadata": {},
   "outputs": [
    {
     "name": "stdout",
     "output_type": "stream",
     "text": [
      "Могу сви да стану у лифт.\n"
     ]
    }
   ],
   "source": [
    "if tabela[\"Тежина\"].sum() <= 600:\n",
    "    print(\"Могу сви да стану у лифт.\")\n",
    "else:\n",
    "    print(\"Не. Заједно су претешки.\")"
   ]
  },
  {
   "cell_type": "markdown",
   "metadata": {},
   "source": [
    "## 8.3. Визуелизација табеларно представљених података"
   ]
  },
  {
   "cell_type": "markdown",
   "metadata": {},
   "source": [
    "Визуелизација података из табеле се своди на то да одаберу интересантне колоне табеле и прикажу неком од техника које смо раније видели. Прво ћемо учитати одговарајућу библиотеку:"
   ]
  },
  {
   "cell_type": "code",
   "execution_count": 15,
   "metadata": {},
   "outputs": [],
   "source": [
    "import matplotlib.pyplot as plt"
   ]
  },
  {
   "cell_type": "markdown",
   "metadata": {},
   "source": [
    "Ако желимо хистограмом да представимо висину деце у групи, одабраћемо колоне \"Име\" и \"Висина\" и приказати их, рецимо овако:"
   ]
  },
  {
   "cell_type": "code",
   "execution_count": 16,
   "metadata": {},
   "outputs": [
    {
     "data": {
      "image/png": "[encoded data removed]",
      "text/plain": [
       "<Figure size 720x360 with 1 Axes>"
      ]
     },
     "metadata": {},
     "output_type": "display_data"
    }
   ],
   "source": [
    "plt.figure(figsize=(10,5))\n",
    "plt.bar(tabela[\"Име\"], tabela[\"Висина\"])\n",
    "plt.title(\"Висина деце у групи\")\n",
    "plt.show()\n",
    "plt.close()"
   ]
  },
  {
   "cell_type": "markdown",
   "metadata": {},
   "source": [
    "Као други пример, линијским дијаграмом ћемо представити тежину и старостдеце у групи тако да тежина буде предствљена црвеном линијом, а старост зеленом. Приказаћемо и легенду да би било јасно шта која линија представља."
   ]
  },
  {
   "cell_type": "code",
   "execution_count": 17,
   "metadata": {},
   "outputs": [
    {
     "data": {
      "image/png": "[encoded data removed]",
      "text/plain": [
       "<Figure size 720x360 with 1 Axes>"
      ]
     },
     "metadata": {},
     "output_type": "display_data"
    }
   ],
   "source": [
    "plt.figure(figsize=(10,5))\n",
    "plt.plot(tabela[\"Име\"], tabela[\"Тежина\"], color=\"r\", label=\"Тежина\")\n",
    "plt.plot(tabela[\"Име\"], tabela[\"Старост\"], color=\"g\", label=\"Старост\")\n",
    "plt.title(\"Старост и тежина деце у групи\")\n",
    "plt.legend()\n",
    "plt.show()\n",
    "plt.close()"
   ]
  },
  {
   "cell_type": "markdown",
   "metadata": {},
   "source": [
    "## 8.4. Задаци"
   ]
  },
  {
   "cell_type": "markdown",
   "metadata": {},
   "source": [
    "**Задатак 1.** У следећој листи су дати подаци о националним парковима Србије. За сваки национални парк је наведено његово име, површина у хектарима и година оснивања:"
   ]
  },
  {
   "cell_type": "code",
   "execution_count": null,
   "metadata": {},
   "outputs": [],
   "source": [
    "# изврши ову ћелију\n",
    "nac_parkovi = [[\"Фрушка гора\", 25393, 1960],\n",
    "               [\"Ђердап\",      64000, 1974],\n",
    "               [\"Тара\",        22000, 1981],\n",
    "               [\"Копаоник\",    11810, 1981],\n",
    "               [\"Шар-планина\", 39000, 1985]]"
   ]
  },
  {
   "cell_type": "markdown",
   "metadata": {},
   "source": [
    "_(а)_ Од ове листе у ћелији испод направи _DataFrame_ па израчунај просечну површину националног парка (у хектарима), и укупну површину коју заузимају национални паркови у Србији (у квадратним километрима; 1 квадратни километар = 100 хектара)."
   ]
  },
  {
   "cell_type": "code",
   "execution_count": null,
   "metadata": {},
   "outputs": [],
   "source": []
  },
  {
   "cell_type": "markdown",
   "metadata": {},
   "source": [
    "_(б)_ У ћелији испод прикажи линијским графиконом површине националних паркова у Србији."
   ]
  },
  {
   "cell_type": "code",
   "execution_count": null,
   "metadata": {},
   "outputs": [],
   "source": []
  },
  {
   "cell_type": "markdown",
   "metadata": {},
   "source": [
    "**Задатак 2.** Производња кукуруза и пшенице у периоду 2008--2012. је дата у следећој табели (подаци су исказани у хиљадама тона):\n",
    "\n",
    "| Година | Кукуруз | Пшеница |\n",
    "|--|--|--|\n",
    "| 2008. | 6.158 | 2.095 |\n",
    "| 2009. | 6.396 | 2.067 |\n",
    "| 2010. | 7.207 | 1.631 |\n",
    "| 2011. | 6.480 | 2.076 |\n",
    "| 2012. | 3.532 | 1.911 |\n",
    "\n",
    "_(а)_ У ћелији испод направи одговарајући _DataFrame_ па израчунај максималну производњу кукуруза и минималну производњу пшенице у наведеном периоду. (Упутство: податке прво представи листом, а онда од листе направи _DataFrame_.)"
   ]
  },
  {
   "cell_type": "code",
   "execution_count": null,
   "metadata": {},
   "outputs": [],
   "source": []
  },
  {
   "cell_type": "markdown",
   "metadata": {},
   "source": [
    "_(б)_ На једном графикону прикажи стубичастим дијаграмом производњу пшенице и кукуруза у наведеном периоду. (Води рачуна да прво исцрташ податке за кукуруз, а онда преко тога податке за пшеницу.)"
   ]
  },
  {
   "cell_type": "code",
   "execution_count": null,
   "metadata": {},
   "outputs": [],
   "source": []
  },
  {
   "cell_type": "markdown",
   "metadata": {},
   "source": [
    "_(в)_ Израчунај просечну годишњу производњу кукуруза за наведени период, као и за колико се разликовала производња пшенице у најбољој и најлошијој години наведеног периода (у хиљадама тона)."
   ]
  },
  {
   "cell_type": "code",
   "execution_count": null,
   "metadata": {},
   "outputs": [],
   "source": []
  }
 ],
 "metadata": {
  "kernelspec": {
   "display_name": "Python 3",
   "language": "python",
   "name": "python3"
  },
  "language_info": {
   "codemirror_mode": {
    "name": "ipython",
    "version": 3
   },
   "file_extension": ".py",
   "mimetype": "text/x-python",
   "name": "python",
   "nbconvert_exporter": "python",
   "pygments_lexer": "ipython3",
   "version": "3.6.5"
  }
 },
 "nbformat": 4,
 "nbformat_minor": 2
}
