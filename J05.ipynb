{
 "cells": [
  {
   "cell_type": "markdown",
   "metadata": {},
   "source": [
    "# 5. час: Просек низа бројева\n",
    "\n",
    "\n",
    "На овом часу ћеш научити:\n",
    "1. како да израчунаш просек низа бројева;\n",
    "2. како да дефинишеш своје функције у Пајтону (а пре свега функцију која рачуна просек); и\n",
    "3. како да на истом графикону прикажеш и податке и њихов просек."
   ]
  },
  {
   "cell_type": "markdown",
   "metadata": {},
   "source": [
    "## 5.1. Просек"
   ]
  },
  {
   "cell_type": "markdown",
   "metadata": {},
   "source": [
    "Постоји много ситуација када се низ бројева може згодно описати неком _карактеристичном вредношћу_. На пример, ученици добијају оцене из много предмета, али на крају школске године школски систем жели да \"изведе\" једну оцену и да том оценом окарактерише рад ученика у тој години.\n",
    "\n",
    "Временом се као најпогоднији представник низа бројева показао _просек_. Просек низа бројева се рачуна овако:\n",
    "\n",
    "$$\n",
    "  \\hbox{просек низа } [x_1, x_2, \\dots, x_n] = \\frac{x_1 + x_2 + \\dots + x_n}{n}.\n",
    "$$\n",
    "\n",
    "Дакле, да бисмо добили просек низа бројева саберемо све елементе низа и тако добијени број поделимо дужином низа.\n",
    "\n",
    "У Пајтону се обе ове активности могу обавити позивом одговарајуће уграђене функције: функција `len` рачуна дужину низа, док\n",
    "функција `sum` рачуна збир елемената низа бројева.\n",
    "\n",
    "На пример:"
   ]
  },
  {
   "cell_type": "code",
   "execution_count": 1,
   "metadata": {},
   "outputs": [
    {
     "name": "stdout",
     "output_type": "stream",
     "text": [
      "6\n",
      "35\n"
     ]
    }
   ],
   "source": [
    "L = [1, 3, 5, 7, 9, 10]\n",
    "print(len(L))\n",
    "print(sum(L))"
   ]
  },
  {
   "cell_type": "markdown",
   "metadata": {},
   "source": [
    "(Примети да су ове функције _уграђене у Пајтон_ и да нема потребе ловити их по библиотекама!)\n",
    "\n",
    "Према томе, просек низа бројева се у Пајтону рачуна овако:"
   ]
  },
  {
   "cell_type": "code",
   "execution_count": 2,
   "metadata": {},
   "outputs": [
    {
     "name": "stdout",
     "output_type": "stream",
     "text": [
      "Prosek niza brojeva [1, 3, 5, 7, 9, 10] je 5.833333333333333\n"
     ]
    }
   ],
   "source": [
    "print(\"Prosek niza brojeva\", L, \"je\", sum(L) / len(L))"
   ]
  },
  {
   "cell_type": "markdown",
   "metadata": {},
   "source": [
    "## 5.2. Дефинисање нових функција у Пајтону"
   ]
  },
  {
   "cell_type": "markdown",
   "metadata": {},
   "source": [
    "Како ћемо у много наврата рачунати просек, дефинисаћемо нову функцију која га рачуна. У претходним разредима смо се већ срели са дефиницијама нових функција у Пајтону и зато мали програм који следи не би требало да представља изненађење за тебе:"
   ]
  },
  {
   "cell_type": "code",
   "execution_count": 3,
   "metadata": {},
   "outputs": [],
   "source": [
    "def prosek(L):\n",
    "    return sum(L) / len(L)"
   ]
  },
  {
   "cell_type": "markdown",
   "metadata": {},
   "source": [
    "Претходни програм је у систем унео нову дефиницију: функција `prosek` ће прихватити неки низ `L` и онда ће као резултат свог рада вратити збир елемената низа `L` подељен дужином низа `L` (дакле, просек елемената тог низа).\n",
    "\n",
    "Примети да је списак Пајтон наредби које представљају _тело функције_ и објашњавају шта функција ради увучен за четири празнине.\n",
    "\n",
    "Да видимо како ради наша нова функција:"
   ]
  },
  {
   "cell_type": "code",
   "execution_count": 4,
   "metadata": {},
   "outputs": [
    {
     "name": "stdout",
     "output_type": "stream",
     "text": [
      "Prosek niza brojeva [1, 3, 5, 7, 9, 10] je 5.833333333333333\n"
     ]
    }
   ],
   "source": [
    "print(\"Prosek niza brojeva\", L, \"je\", prosek(L))"
   ]
  },
  {
   "cell_type": "markdown",
   "metadata": {},
   "source": [
    "У ћелији испод унете су оцене једног ученика из информатике и приказан је њихов просек:"
   ]
  },
  {
   "cell_type": "code",
   "execution_count": 5,
   "metadata": {},
   "outputs": [
    {
     "name": "stdout",
     "output_type": "stream",
     "text": [
      "Prosek ocena iz informatike je 4.4\n"
     ]
    }
   ],
   "source": [
    "ocene = [5, 4, 3, 5, 5]\n",
    "print(\"Prosek ocena iz informatike je\", prosek(ocene))"
   ]
  },
  {
   "cell_type": "markdown",
   "metadata": {},
   "source": [
    "Ако ћемо искрено, просек оцена се увек приказује заокружен на две децимале. У Пајтону постоји уграђена функција `round(x, n)` која заокружује дати број `x` на `n` децимала. На пример:"
   ]
  },
  {
   "cell_type": "code",
   "execution_count": 6,
   "metadata": {},
   "outputs": [
    {
     "data": {
      "text/plain": [
       "1.67"
      ]
     },
     "execution_count": 6,
     "metadata": {},
     "output_type": "execute_result"
    }
   ],
   "source": [
    "round(1.666666666, 2)"
   ]
  },
  {
   "cell_type": "markdown",
   "metadata": {},
   "source": [
    "Према томе, просек оцена из информатике сада можемо да добијемо овако:"
   ]
  },
  {
   "cell_type": "code",
   "execution_count": 8,
   "metadata": {},
   "outputs": [
    {
     "name": "stdout",
     "output_type": "stream",
     "text": [
      "Prosek ocena iz informatike je 4.4\n"
     ]
    }
   ],
   "source": [
    "print(\"Prosek ocena iz informatike je\", round(prosek(ocene), 2))"
   ]
  },
  {
   "cell_type": "markdown",
   "metadata": {},
   "source": [
    "## 5.3. Приказивање података и њиховог просека"
   ]
  },
  {
   "cell_type": "markdown",
   "metadata": {},
   "source": [
    "Претпоставимо да је на полугодишту један ученик имао следеће оцене из наведених предмета:"
   ]
  },
  {
   "cell_type": "code",
   "execution_count": 9,
   "metadata": {},
   "outputs": [],
   "source": [
    "predmeti = [\"мат\", \"срп\", \"лик\", \"ист\", \"физ\", \"муз\", \"тио\"]\n",
    "ocene    = [2,     4,     5,     3,     5,     4,     5    ]"
   ]
  },
  {
   "cell_type": "markdown",
   "metadata": {},
   "source": [
    "Желимо да прикажемо његове оцене хистограмом и да просечна оцена буде означена црвеном линијом како бисмо могли да видимо које оцене су изнад просека, а које испод.\n",
    "\n",
    "Прво ћемо учитати библиотеку за цртање графикона:"
   ]
  },
  {
   "cell_type": "code",
   "execution_count": 10,
   "metadata": {},
   "outputs": [],
   "source": [
    "import matplotlib.pyplot as plt"
   ]
  },
  {
   "cell_type": "markdown",
   "metadata": {},
   "source": [
    "Хистограм са оценама можемо да нацртамо веома једноставно:"
   ]
  },
  {
   "cell_type": "code",
   "execution_count": 11,
   "metadata": {},
   "outputs": [
    {
     "data": {
      "image/png": "[encoded data removed]",
      "text/plain": [
       "<Figure size 720x360 with 1 Axes>"
      ]
     },
     "metadata": {},
     "output_type": "display_data"
    }
   ],
   "source": [
    "plt.figure(figsize=(10,5))\n",
    "plt.bar(predmeti, ocene)\n",
    "plt.title(\"Оцене на полугодишту\")\n",
    "plt.show()\n",
    "plt.close()"
   ]
  },
  {
   "cell_type": "markdown",
   "metadata": {},
   "source": [
    "Сада желимо да преко хистограма нацртамо црвену линију која представља просечну оцену. Прво ћемо израчунати просечну оцену `po`:"
   ]
  },
  {
   "cell_type": "code",
   "execution_count": 12,
   "metadata": {},
   "outputs": [],
   "source": [
    "po = prosek(ocene)"
   ]
  },
  {
   "cell_type": "markdown",
   "metadata": {},
   "source": [
    "а онда ћемо на горњи дијаграм додати и низ података који изгледа овако:\n",
    "\n",
    "`[po, po, po, po, po, po, po]`"
   ]
  },
  {
   "cell_type": "code",
   "execution_count": 13,
   "metadata": {},
   "outputs": [
    {
     "data": {
      "image/png": "[encoded data removed]",
      "text/plain": [
       "<Figure size 720x360 with 1 Axes>"
      ]
     },
     "metadata": {},
     "output_type": "display_data"
    }
   ],
   "source": [
    "plt.figure(figsize=(10,5))\n",
    "plt.bar(predmeti, ocene)\n",
    "plt.plot(predmeti, [po, po, po, po, po, po, po], color=\"r\")\n",
    "plt.title(\"Оцене на полугодишту\")\n",
    "plt.show()\n",
    "plt.close()"
   ]
  },
  {
   "cell_type": "markdown",
   "metadata": {},
   "source": [
    "Ако један исти податак `s` треба поновити `n` пута можемо да пишемо као горе:\n",
    "\n",
    "`[s, s, s, (и тако даље)]`\n",
    "\n",
    "али можемо да то запишемо краће овако:\n",
    "\n",
    "`[s]*n`\n",
    "\n",
    "Ознаком `[s]*n` смо Пајтону рекли да желимо да направимо нови низ који се добија тако што се низ `[s]` \"умножи\" `n` пута. На пример, `[5]*7 = [5, 5, 5, 5, 5, 5, 5]`. (Такође је `[6, 7, 8]*3 = [6, 7, 8, 6, 7, 8, 6, 7, 8]`, али нам ово за сада неће бити потребно.)\n",
    "\n",
    "Тако добијамо следећу верзију програма:"
   ]
  },
  {
   "cell_type": "code",
   "execution_count": 14,
   "metadata": {},
   "outputs": [
    {
     "data": {
      "image/png": "[encoded data removed]",
      "text/plain": [
       "<Figure size 720x360 with 1 Axes>"
      ]
     },
     "metadata": {},
     "output_type": "display_data"
    }
   ],
   "source": [
    "plt.figure(figsize=(10,5))\n",
    "plt.bar(predmeti, ocene)\n",
    "plt.plot(predmeti, [po] * len(ocene), color=\"r\")\n",
    "plt.title(\"Оцене на полугодишту\")\n",
    "plt.show()\n",
    "plt.close()"
   ]
  },
  {
   "cell_type": "markdown",
   "metadata": {},
   "source": [
    "За крај ћемо дијаграму додати легенду:"
   ]
  },
  {
   "cell_type": "code",
   "execution_count": 15,
   "metadata": {},
   "outputs": [
    {
     "data": {
      "image/png": "[encoded data removed]",
      "text/plain": [
       "<Figure size 720x360 with 1 Axes>"
      ]
     },
     "metadata": {},
     "output_type": "display_data"
    }
   ],
   "source": [
    "plt.figure(figsize=(10,5))\n",
    "plt.bar(predmeti, ocene, label=\"оцене\")\n",
    "plt.plot(predmeti, [po] * len(ocene), color=\"r\", label=\"просек\")\n",
    "plt.title(\"Оцене на полугодишту\")\n",
    "plt.legend()\n",
    "plt.show()\n",
    "plt.close()"
   ]
  },
  {
   "cell_type": "markdown",
   "metadata": {},
   "source": [
    "## 5.4. Задаци\n",
    "\n",
    "Задатке уради у Џупајтеру."
   ]
  },
  {
   "cell_type": "markdown",
   "metadata": {},
   "source": [
    "**Задатак 1.** Једна збирка кратких прича за децу има 12 страна - по једна прича на свакој страни. Приче имају мали број речи, и то, по странама: 271, 354, 296, 301, 333, 326, 285, 298, 327, 316, 287 и 314. Колики је просечан број речи по причи у овој књизи?"
   ]
  },
  {
   "cell_type": "markdown",
   "metadata": {},
   "source": [
    "**Задатак 2.**\n",
    "\n",
    "_(а)_ Мирко из музичког има 5, 4, 5 и још једну оцену која се не види јер се преко ње разлило мастило. Просек његових оцена из музичког је 4. Која је то оцена преко које се разлило мастило?\n",
    "\n",
    "_(б)_ Колико још петица Мирко треба да добије да би наставница музичког за крај године морала да му закључи оцену 5? (Према Правилнику о оцењивању у основним школама, ако је просек оцена уписаних у дневник 4,50 или више, наставник _мора_ да закључи оцену 5.)\n",
    "\n",
    "(Помоћ: решење задатка под _(а)_ израчунај - за то ти не треба Пајтон; решење задатка под _(б)_ можеш да израчунаш, али можеш и да га погодиш тако што ћеш експериментисати са разним могућностима Миркових оцена из музичког - користи функцијe `prosek` и `round`.)"
   ]
  },
  {
   "cell_type": "markdown",
   "metadata": {},
   "source": [
    "**Задатак 3.** Првих десет места на АТП листи на дан 12.11.2018. изгледа овако:"
   ]
  },
  {
   "cell_type": "code",
   "execution_count": null,
   "metadata": {},
   "outputs": [],
   "source": [
    "teniseri = [\"Đoković\", \"Nadal\", \"Federer\", \"Del Potro\", \"Zverev\", \"Anderson\", \"Čilić\", \"Thiem\", \"Nishikori\", \"Isner\"]\n",
    "poeni    = [8045,      7480,    6020,      5300,        5085,     4310,       4050,    3895,    3390,        3155]"
   ]
  },
  {
   "cell_type": "markdown",
   "metadata": {},
   "source": [
    "_(а)_ Прикажи хистограмом податке о АТП поенима првих десет тенисера на свету, а црвеном линијом прикажи просечан број поена првих десет играча на АТП листи.\n",
    "\n",
    "_(б)_ Колико од њих је изнад просека?"
   ]
  },
  {
   "cell_type": "markdown",
   "metadata": {},
   "source": [
    "**Задатак 4.** На почетку одељка 5.3. дате су оцене једног ученика на полугодишту. Хистограмом прикажи колико свака од оцена одступа од просека. Следећи Пајтон програмчић ће ти помоћи:"
   ]
  },
  {
   "cell_type": "code",
   "execution_count": null,
   "metadata": {},
   "outputs": [],
   "source": [
    "odstupanje = [0] * len(ocene) # овим смо направили низ нула, само да резервишемо простор\n",
    "for i in range(len(ocene)):\n",
    "    odstupanje[i] = ocene[i] - po"
   ]
  }
 ],
 "metadata": {
  "kernelspec": {
   "display_name": "Python 3",
   "language": "python",
   "name": "python3"
  },
  "language_info": {
   "codemirror_mode": {
    "name": "ipython",
    "version": 3
   },
   "file_extension": ".py",
   "mimetype": "text/x-python",
   "name": "python",
   "nbconvert_exporter": "python",
   "pygments_lexer": "ipython3",
   "version": "3.6.5"
  }
 },
 "nbformat": 4,
 "nbformat_minor": 2
}
